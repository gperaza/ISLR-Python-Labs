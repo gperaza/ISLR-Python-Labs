{
 "cells": [
  {
   "cell_type": "markdown",
   "metadata": {},
   "source": [
    "# Classification"
   ]
  },
  {
   "cell_type": "code",
   "execution_count": 1,
   "metadata": {},
   "outputs": [
    {
     "name": "stderr",
     "output_type": "stream",
     "text": [
      "/home/gperaza/anaconda3/lib/python3.6/site-packages/statsmodels/compat/pandas.py:56: FutureWarning: The pandas.core.datetools module is deprecated and will be removed in a future version. Please use the pandas.tseries module instead.\n",
      "  from pandas.core import datetools\n"
     ]
    }
   ],
   "source": [
    "## perform imports and set-up\n",
    "import numpy as np\n",
    "import pandas as pd\n",
    "import statsmodels.api as sm\n",
    "import statsmodels.formula.api as smf\n",
    "\n",
    "import matplotlib.pyplot as plt\n",
    "\n",
    "%matplotlib inline\n",
    "\n",
    "# print with precision 4\n",
    "%precision 4\n",
    "pd.set_option('precision', 4)"
   ]
  },
  {
   "cell_type": "markdown",
   "metadata": {},
   "source": [
    "## The Stock Market Data"
   ]
  },
  {
   "cell_type": "markdown",
   "metadata": {},
   "source": [
    "We will begin by examining some numerical and graphical summaries of the `Smarket` data. This data set consists of percentage returns for the S&P 500 stock index over 1,250 days, from the beginning of 2001 until the end of 2005. For each date, we have recorded the percentage returns for each of the five previous trading days, `Lag1` through `Lag5`. We have also recorded `Volume` (the number of shares traded on the previous day, in billions), `Today` (the percentage return on the date in question) and `Direction` (whether the market was Up or Down on this date)."
   ]
  },
  {
   "cell_type": "code",
   "execution_count": 2,
   "metadata": {},
   "outputs": [
    {
     "data": {
      "text/html": [
       "<div>\n",
       "<style>\n",
       "    .dataframe thead tr:only-child th {\n",
       "        text-align: right;\n",
       "    }\n",
       "\n",
       "    .dataframe thead th {\n",
       "        text-align: left;\n",
       "    }\n",
       "\n",
       "    .dataframe tbody tr th {\n",
       "        vertical-align: top;\n",
       "    }\n",
       "</style>\n",
       "<table border=\"1\" class=\"dataframe\">\n",
       "  <thead>\n",
       "    <tr style=\"text-align: right;\">\n",
       "      <th></th>\n",
       "      <th>Day</th>\n",
       "      <th>Year</th>\n",
       "      <th>Lag1</th>\n",
       "      <th>Lag2</th>\n",
       "      <th>Lag3</th>\n",
       "      <th>Lag4</th>\n",
       "      <th>Lag5</th>\n",
       "      <th>Volume</th>\n",
       "      <th>Today</th>\n",
       "      <th>Direction</th>\n",
       "    </tr>\n",
       "  </thead>\n",
       "  <tbody>\n",
       "    <tr>\n",
       "      <th>0</th>\n",
       "      <td>1</td>\n",
       "      <td>2001</td>\n",
       "      <td>0.381</td>\n",
       "      <td>-0.192</td>\n",
       "      <td>-2.624</td>\n",
       "      <td>-1.055</td>\n",
       "      <td>5.010</td>\n",
       "      <td>1.1913</td>\n",
       "      <td>0.959</td>\n",
       "      <td>Up</td>\n",
       "    </tr>\n",
       "    <tr>\n",
       "      <th>1</th>\n",
       "      <td>2</td>\n",
       "      <td>2001</td>\n",
       "      <td>0.959</td>\n",
       "      <td>0.381</td>\n",
       "      <td>-0.192</td>\n",
       "      <td>-2.624</td>\n",
       "      <td>-1.055</td>\n",
       "      <td>1.2965</td>\n",
       "      <td>1.032</td>\n",
       "      <td>Up</td>\n",
       "    </tr>\n",
       "    <tr>\n",
       "      <th>2</th>\n",
       "      <td>3</td>\n",
       "      <td>2001</td>\n",
       "      <td>1.032</td>\n",
       "      <td>0.959</td>\n",
       "      <td>0.381</td>\n",
       "      <td>-0.192</td>\n",
       "      <td>-2.624</td>\n",
       "      <td>1.4112</td>\n",
       "      <td>-0.623</td>\n",
       "      <td>Down</td>\n",
       "    </tr>\n",
       "    <tr>\n",
       "      <th>3</th>\n",
       "      <td>4</td>\n",
       "      <td>2001</td>\n",
       "      <td>-0.623</td>\n",
       "      <td>1.032</td>\n",
       "      <td>0.959</td>\n",
       "      <td>0.381</td>\n",
       "      <td>-0.192</td>\n",
       "      <td>1.2760</td>\n",
       "      <td>0.614</td>\n",
       "      <td>Up</td>\n",
       "    </tr>\n",
       "    <tr>\n",
       "      <th>4</th>\n",
       "      <td>5</td>\n",
       "      <td>2001</td>\n",
       "      <td>0.614</td>\n",
       "      <td>-0.623</td>\n",
       "      <td>1.032</td>\n",
       "      <td>0.959</td>\n",
       "      <td>0.381</td>\n",
       "      <td>1.2057</td>\n",
       "      <td>0.213</td>\n",
       "      <td>Up</td>\n",
       "    </tr>\n",
       "  </tbody>\n",
       "</table>\n",
       "</div>"
      ],
      "text/plain": [
       "   Day  Year   Lag1   Lag2   Lag3   Lag4   Lag5  Volume  Today Direction\n",
       "0    1  2001  0.381 -0.192 -2.624 -1.055  5.010  1.1913  0.959        Up\n",
       "1    2  2001  0.959  0.381 -0.192 -2.624 -1.055  1.2965  1.032        Up\n",
       "2    3  2001  1.032  0.959  0.381 -0.192 -2.624  1.4112 -0.623      Down\n",
       "3    4  2001 -0.623  1.032  0.959  0.381 -0.192  1.2760  0.614        Up\n",
       "4    5  2001  0.614 -0.623  1.032  0.959  0.381  1.2057  0.213        Up"
      ]
     },
     "execution_count": 2,
     "metadata": {},
     "output_type": "execute_result"
    }
   ],
   "source": [
    "market_df = pd.read_csv('Data/Smarket.csv')\n",
    "market_df = market_df.rename(columns = {'Unnamed: 0':'Day'})\n",
    "market_df.head()"
   ]
  },
  {
   "cell_type": "code",
   "execution_count": 3,
   "metadata": {},
   "outputs": [
    {
     "data": {
      "text/plain": [
       "(1250, 10)"
      ]
     },
     "execution_count": 3,
     "metadata": {},
     "output_type": "execute_result"
    }
   ],
   "source": [
    "market_df.shape"
   ]
  },
  {
   "cell_type": "code",
   "execution_count": 4,
   "metadata": {},
   "outputs": [
    {
     "data": {
      "text/html": [
       "<div>\n",
       "<style>\n",
       "    .dataframe thead tr:only-child th {\n",
       "        text-align: right;\n",
       "    }\n",
       "\n",
       "    .dataframe thead th {\n",
       "        text-align: left;\n",
       "    }\n",
       "\n",
       "    .dataframe tbody tr th {\n",
       "        vertical-align: top;\n",
       "    }\n",
       "</style>\n",
       "<table border=\"1\" class=\"dataframe\">\n",
       "  <thead>\n",
       "    <tr style=\"text-align: right;\">\n",
       "      <th></th>\n",
       "      <th>Day</th>\n",
       "      <th>Year</th>\n",
       "      <th>Lag1</th>\n",
       "      <th>Lag2</th>\n",
       "      <th>Lag3</th>\n",
       "      <th>Lag4</th>\n",
       "      <th>Lag5</th>\n",
       "      <th>Volume</th>\n",
       "      <th>Today</th>\n",
       "    </tr>\n",
       "  </thead>\n",
       "  <tbody>\n",
       "    <tr>\n",
       "      <th>count</th>\n",
       "      <td>1250.0000</td>\n",
       "      <td>1250.000</td>\n",
       "      <td>1250.0000</td>\n",
       "      <td>1250.0000</td>\n",
       "      <td>1250.0000</td>\n",
       "      <td>1250.0000</td>\n",
       "      <td>1250.0000</td>\n",
       "      <td>1250.0000</td>\n",
       "      <td>1250.0000</td>\n",
       "    </tr>\n",
       "    <tr>\n",
       "      <th>mean</th>\n",
       "      <td>625.5000</td>\n",
       "      <td>2003.016</td>\n",
       "      <td>0.0038</td>\n",
       "      <td>0.0039</td>\n",
       "      <td>0.0017</td>\n",
       "      <td>0.0016</td>\n",
       "      <td>0.0056</td>\n",
       "      <td>1.4783</td>\n",
       "      <td>0.0031</td>\n",
       "    </tr>\n",
       "    <tr>\n",
       "      <th>std</th>\n",
       "      <td>360.9882</td>\n",
       "      <td>1.409</td>\n",
       "      <td>1.1363</td>\n",
       "      <td>1.1363</td>\n",
       "      <td>1.1387</td>\n",
       "      <td>1.1388</td>\n",
       "      <td>1.1476</td>\n",
       "      <td>0.3604</td>\n",
       "      <td>1.1363</td>\n",
       "    </tr>\n",
       "    <tr>\n",
       "      <th>min</th>\n",
       "      <td>1.0000</td>\n",
       "      <td>2001.000</td>\n",
       "      <td>-4.9220</td>\n",
       "      <td>-4.9220</td>\n",
       "      <td>-4.9220</td>\n",
       "      <td>-4.9220</td>\n",
       "      <td>-4.9220</td>\n",
       "      <td>0.3561</td>\n",
       "      <td>-4.9220</td>\n",
       "    </tr>\n",
       "    <tr>\n",
       "      <th>25%</th>\n",
       "      <td>313.2500</td>\n",
       "      <td>2002.000</td>\n",
       "      <td>-0.6395</td>\n",
       "      <td>-0.6395</td>\n",
       "      <td>-0.6400</td>\n",
       "      <td>-0.6400</td>\n",
       "      <td>-0.6400</td>\n",
       "      <td>1.2574</td>\n",
       "      <td>-0.6395</td>\n",
       "    </tr>\n",
       "    <tr>\n",
       "      <th>50%</th>\n",
       "      <td>625.5000</td>\n",
       "      <td>2003.000</td>\n",
       "      <td>0.0390</td>\n",
       "      <td>0.0390</td>\n",
       "      <td>0.0385</td>\n",
       "      <td>0.0385</td>\n",
       "      <td>0.0385</td>\n",
       "      <td>1.4230</td>\n",
       "      <td>0.0385</td>\n",
       "    </tr>\n",
       "    <tr>\n",
       "      <th>75%</th>\n",
       "      <td>937.7500</td>\n",
       "      <td>2004.000</td>\n",
       "      <td>0.5968</td>\n",
       "      <td>0.5968</td>\n",
       "      <td>0.5968</td>\n",
       "      <td>0.5968</td>\n",
       "      <td>0.5970</td>\n",
       "      <td>1.6417</td>\n",
       "      <td>0.5968</td>\n",
       "    </tr>\n",
       "    <tr>\n",
       "      <th>max</th>\n",
       "      <td>1250.0000</td>\n",
       "      <td>2005.000</td>\n",
       "      <td>5.7330</td>\n",
       "      <td>5.7330</td>\n",
       "      <td>5.7330</td>\n",
       "      <td>5.7330</td>\n",
       "      <td>5.7330</td>\n",
       "      <td>3.1525</td>\n",
       "      <td>5.7330</td>\n",
       "    </tr>\n",
       "  </tbody>\n",
       "</table>\n",
       "</div>"
      ],
      "text/plain": [
       "             Day      Year       Lag1       Lag2       Lag3       Lag4  \\\n",
       "count  1250.0000  1250.000  1250.0000  1250.0000  1250.0000  1250.0000   \n",
       "mean    625.5000  2003.016     0.0038     0.0039     0.0017     0.0016   \n",
       "std     360.9882     1.409     1.1363     1.1363     1.1387     1.1388   \n",
       "min       1.0000  2001.000    -4.9220    -4.9220    -4.9220    -4.9220   \n",
       "25%     313.2500  2002.000    -0.6395    -0.6395    -0.6400    -0.6400   \n",
       "50%     625.5000  2003.000     0.0390     0.0390     0.0385     0.0385   \n",
       "75%     937.7500  2004.000     0.5968     0.5968     0.5968     0.5968   \n",
       "max    1250.0000  2005.000     5.7330     5.7330     5.7330     5.7330   \n",
       "\n",
       "            Lag5     Volume      Today  \n",
       "count  1250.0000  1250.0000  1250.0000  \n",
       "mean      0.0056     1.4783     0.0031  \n",
       "std       1.1476     0.3604     1.1363  \n",
       "min      -4.9220     0.3561    -4.9220  \n",
       "25%      -0.6400     1.2574    -0.6395  \n",
       "50%       0.0385     1.4230     0.0385  \n",
       "75%       0.5970     1.6417     0.5968  \n",
       "max       5.7330     3.1525     5.7330  "
      ]
     },
     "execution_count": 4,
     "metadata": {},
     "output_type": "execute_result"
    }
   ],
   "source": [
    "market_df.describe()"
   ]
  },
  {
   "cell_type": "markdown",
   "metadata": {},
   "source": [
    "The corr() method produces a matrix that contains all of the pairwise correlations among the predictors in a data set."
   ]
  },
  {
   "cell_type": "code",
   "execution_count": 5,
   "metadata": {},
   "outputs": [
    {
     "data": {
      "text/html": [
       "<div>\n",
       "<style>\n",
       "    .dataframe thead tr:only-child th {\n",
       "        text-align: right;\n",
       "    }\n",
       "\n",
       "    .dataframe thead th {\n",
       "        text-align: left;\n",
       "    }\n",
       "\n",
       "    .dataframe tbody tr th {\n",
       "        vertical-align: top;\n",
       "    }\n",
       "</style>\n",
       "<table border=\"1\" class=\"dataframe\">\n",
       "  <thead>\n",
       "    <tr style=\"text-align: right;\">\n",
       "      <th></th>\n",
       "      <th>Day</th>\n",
       "      <th>Year</th>\n",
       "      <th>Lag1</th>\n",
       "      <th>Lag2</th>\n",
       "      <th>Lag3</th>\n",
       "      <th>Lag4</th>\n",
       "      <th>Lag5</th>\n",
       "      <th>Volume</th>\n",
       "      <th>Today</th>\n",
       "    </tr>\n",
       "  </thead>\n",
       "  <tbody>\n",
       "    <tr>\n",
       "      <th>Day</th>\n",
       "      <td>1.0000</td>\n",
       "      <td>0.9798</td>\n",
       "      <td>0.0354</td>\n",
       "      <td>0.0360</td>\n",
       "      <td>0.0390</td>\n",
       "      <td>0.0414</td>\n",
       "      <td>0.0350</td>\n",
       "      <td>0.5463</td>\n",
       "      <td>0.0353</td>\n",
       "    </tr>\n",
       "    <tr>\n",
       "      <th>Year</th>\n",
       "      <td>0.9798</td>\n",
       "      <td>1.0000</td>\n",
       "      <td>0.0297</td>\n",
       "      <td>0.0306</td>\n",
       "      <td>0.0332</td>\n",
       "      <td>0.0357</td>\n",
       "      <td>0.0298</td>\n",
       "      <td>0.5390</td>\n",
       "      <td>0.0301</td>\n",
       "    </tr>\n",
       "    <tr>\n",
       "      <th>Lag1</th>\n",
       "      <td>0.0354</td>\n",
       "      <td>0.0297</td>\n",
       "      <td>1.0000</td>\n",
       "      <td>-0.0263</td>\n",
       "      <td>-0.0108</td>\n",
       "      <td>-0.0030</td>\n",
       "      <td>-0.0057</td>\n",
       "      <td>0.0409</td>\n",
       "      <td>-0.0262</td>\n",
       "    </tr>\n",
       "    <tr>\n",
       "      <th>Lag2</th>\n",
       "      <td>0.0360</td>\n",
       "      <td>0.0306</td>\n",
       "      <td>-0.0263</td>\n",
       "      <td>1.0000</td>\n",
       "      <td>-0.0259</td>\n",
       "      <td>-0.0109</td>\n",
       "      <td>-0.0036</td>\n",
       "      <td>-0.0434</td>\n",
       "      <td>-0.0103</td>\n",
       "    </tr>\n",
       "    <tr>\n",
       "      <th>Lag3</th>\n",
       "      <td>0.0390</td>\n",
       "      <td>0.0332</td>\n",
       "      <td>-0.0108</td>\n",
       "      <td>-0.0259</td>\n",
       "      <td>1.0000</td>\n",
       "      <td>-0.0241</td>\n",
       "      <td>-0.0188</td>\n",
       "      <td>-0.0418</td>\n",
       "      <td>-0.0024</td>\n",
       "    </tr>\n",
       "    <tr>\n",
       "      <th>Lag4</th>\n",
       "      <td>0.0414</td>\n",
       "      <td>0.0357</td>\n",
       "      <td>-0.0030</td>\n",
       "      <td>-0.0109</td>\n",
       "      <td>-0.0241</td>\n",
       "      <td>1.0000</td>\n",
       "      <td>-0.0271</td>\n",
       "      <td>-0.0484</td>\n",
       "      <td>-0.0069</td>\n",
       "    </tr>\n",
       "    <tr>\n",
       "      <th>Lag5</th>\n",
       "      <td>0.0350</td>\n",
       "      <td>0.0298</td>\n",
       "      <td>-0.0057</td>\n",
       "      <td>-0.0036</td>\n",
       "      <td>-0.0188</td>\n",
       "      <td>-0.0271</td>\n",
       "      <td>1.0000</td>\n",
       "      <td>-0.0220</td>\n",
       "      <td>-0.0349</td>\n",
       "    </tr>\n",
       "    <tr>\n",
       "      <th>Volume</th>\n",
       "      <td>0.5463</td>\n",
       "      <td>0.5390</td>\n",
       "      <td>0.0409</td>\n",
       "      <td>-0.0434</td>\n",
       "      <td>-0.0418</td>\n",
       "      <td>-0.0484</td>\n",
       "      <td>-0.0220</td>\n",
       "      <td>1.0000</td>\n",
       "      <td>0.0146</td>\n",
       "    </tr>\n",
       "    <tr>\n",
       "      <th>Today</th>\n",
       "      <td>0.0353</td>\n",
       "      <td>0.0301</td>\n",
       "      <td>-0.0262</td>\n",
       "      <td>-0.0103</td>\n",
       "      <td>-0.0024</td>\n",
       "      <td>-0.0069</td>\n",
       "      <td>-0.0349</td>\n",
       "      <td>0.0146</td>\n",
       "      <td>1.0000</td>\n",
       "    </tr>\n",
       "  </tbody>\n",
       "</table>\n",
       "</div>"
      ],
      "text/plain": [
       "           Day    Year    Lag1    Lag2    Lag3    Lag4    Lag5  Volume   Today\n",
       "Day     1.0000  0.9798  0.0354  0.0360  0.0390  0.0414  0.0350  0.5463  0.0353\n",
       "Year    0.9798  1.0000  0.0297  0.0306  0.0332  0.0357  0.0298  0.5390  0.0301\n",
       "Lag1    0.0354  0.0297  1.0000 -0.0263 -0.0108 -0.0030 -0.0057  0.0409 -0.0262\n",
       "Lag2    0.0360  0.0306 -0.0263  1.0000 -0.0259 -0.0109 -0.0036 -0.0434 -0.0103\n",
       "Lag3    0.0390  0.0332 -0.0108 -0.0259  1.0000 -0.0241 -0.0188 -0.0418 -0.0024\n",
       "Lag4    0.0414  0.0357 -0.0030 -0.0109 -0.0241  1.0000 -0.0271 -0.0484 -0.0069\n",
       "Lag5    0.0350  0.0298 -0.0057 -0.0036 -0.0188 -0.0271  1.0000 -0.0220 -0.0349\n",
       "Volume  0.5463  0.5390  0.0409 -0.0434 -0.0418 -0.0484 -0.0220  1.0000  0.0146\n",
       "Today   0.0353  0.0301 -0.0262 -0.0103 -0.0024 -0.0069 -0.0349  0.0146  1.0000"
      ]
     },
     "execution_count": 5,
     "metadata": {},
     "output_type": "execute_result"
    }
   ],
   "source": [
    "market_df.corr(method='pearson')"
   ]
  },
  {
   "cell_type": "markdown",
   "metadata": {},
   "source": [
    "As one would expect, the correlations between the lag variables and today's returns are close to zero. In other words, there appears to be little correlation between today's returns and previous days' returns. The only substantial correlation is between `Year` and `Volume`. By plotting the data we see that `Volume` is increasing over time. In other words, the average number of shares traded daily increased from 2001 to 2005."
   ]
  },
  {
   "cell_type": "code",
   "execution_count": 6,
   "metadata": {},
   "outputs": [
    {
     "data": {
      "image/png": "[encoded data removed]",
      "text/plain": [
       "<matplotlib.figure.Figure at 0x7f65f4d1b940>"
      ]
     },
     "metadata": {},
     "output_type": "display_data"
    }
   ],
   "source": [
    "fig, ax = plt.subplots(figsize = (8,6))\n",
    "ax.scatter(market_df.Day, market_df.Volume);\n",
    "ax.set_xlabel('Days');\n",
    "ax.set_ylabel('Volume in Billions');"
   ]
  },
  {
   "cell_type": "markdown",
   "metadata": {},
   "source": [
    "## Logistic Regression\n",
    "\n",
    "Next, we will fit a logistic regression model in order to predict `Direction` using `Lag1` through `Lag5` and `Volume`. The `logit()` creates a logistic regression instance. We can use a formula similar to the ones we have used, before we need to code the response; otherwise we must specify the matrices for the predictors and the response."
   ]
  },
  {
   "cell_type": "code",
   "execution_count": 7,
   "metadata": {},
   "outputs": [
    {
     "data": {
      "text/html": [
       "<div>\n",
       "<style>\n",
       "    .dataframe thead tr:only-child th {\n",
       "        text-align: right;\n",
       "    }\n",
       "\n",
       "    .dataframe thead th {\n",
       "        text-align: left;\n",
       "    }\n",
       "\n",
       "    .dataframe tbody tr th {\n",
       "        vertical-align: top;\n",
       "    }\n",
       "</style>\n",
       "<table border=\"1\" class=\"dataframe\">\n",
       "  <thead>\n",
       "    <tr style=\"text-align: right;\">\n",
       "      <th></th>\n",
       "      <th>Day</th>\n",
       "      <th>Year</th>\n",
       "      <th>Lag1</th>\n",
       "      <th>Lag2</th>\n",
       "      <th>Lag3</th>\n",
       "      <th>Lag4</th>\n",
       "      <th>Lag5</th>\n",
       "      <th>Volume</th>\n",
       "      <th>Today</th>\n",
       "      <th>Direction</th>\n",
       "      <th>DirCoded</th>\n",
       "    </tr>\n",
       "  </thead>\n",
       "  <tbody>\n",
       "    <tr>\n",
       "      <th>0</th>\n",
       "      <td>1</td>\n",
       "      <td>2001</td>\n",
       "      <td>0.381</td>\n",
       "      <td>-0.192</td>\n",
       "      <td>-2.624</td>\n",
       "      <td>-1.055</td>\n",
       "      <td>5.010</td>\n",
       "      <td>1.1913</td>\n",
       "      <td>0.959</td>\n",
       "      <td>Up</td>\n",
       "      <td>1</td>\n",
       "    </tr>\n",
       "    <tr>\n",
       "      <th>1</th>\n",
       "      <td>2</td>\n",
       "      <td>2001</td>\n",
       "      <td>0.959</td>\n",
       "      <td>0.381</td>\n",
       "      <td>-0.192</td>\n",
       "      <td>-2.624</td>\n",
       "      <td>-1.055</td>\n",
       "      <td>1.2965</td>\n",
       "      <td>1.032</td>\n",
       "      <td>Up</td>\n",
       "      <td>1</td>\n",
       "    </tr>\n",
       "    <tr>\n",
       "      <th>2</th>\n",
       "      <td>3</td>\n",
       "      <td>2001</td>\n",
       "      <td>1.032</td>\n",
       "      <td>0.959</td>\n",
       "      <td>0.381</td>\n",
       "      <td>-0.192</td>\n",
       "      <td>-2.624</td>\n",
       "      <td>1.4112</td>\n",
       "      <td>-0.623</td>\n",
       "      <td>Down</td>\n",
       "      <td>0</td>\n",
       "    </tr>\n",
       "    <tr>\n",
       "      <th>3</th>\n",
       "      <td>4</td>\n",
       "      <td>2001</td>\n",
       "      <td>-0.623</td>\n",
       "      <td>1.032</td>\n",
       "      <td>0.959</td>\n",
       "      <td>0.381</td>\n",
       "      <td>-0.192</td>\n",
       "      <td>1.2760</td>\n",
       "      <td>0.614</td>\n",
       "      <td>Up</td>\n",
       "      <td>1</td>\n",
       "    </tr>\n",
       "    <tr>\n",
       "      <th>4</th>\n",
       "      <td>5</td>\n",
       "      <td>2001</td>\n",
       "      <td>0.614</td>\n",
       "      <td>-0.623</td>\n",
       "      <td>1.032</td>\n",
       "      <td>0.959</td>\n",
       "      <td>0.381</td>\n",
       "      <td>1.2057</td>\n",
       "      <td>0.213</td>\n",
       "      <td>Up</td>\n",
       "      <td>1</td>\n",
       "    </tr>\n",
       "  </tbody>\n",
       "</table>\n",
       "</div>"
      ],
      "text/plain": [
       "   Day  Year   Lag1   Lag2   Lag3   Lag4   Lag5  Volume  Today Direction  \\\n",
       "0    1  2001  0.381 -0.192 -2.624 -1.055  5.010  1.1913  0.959        Up   \n",
       "1    2  2001  0.959  0.381 -0.192 -2.624 -1.055  1.2965  1.032        Up   \n",
       "2    3  2001  1.032  0.959  0.381 -0.192 -2.624  1.4112 -0.623      Down   \n",
       "3    4  2001 -0.623  1.032  0.959  0.381 -0.192  1.2760  0.614        Up   \n",
       "4    5  2001  0.614 -0.623  1.032  0.959  0.381  1.2057  0.213        Up   \n",
       "\n",
       "   DirCoded  \n",
       "0         1  \n",
       "1         1  \n",
       "2         0  \n",
       "3         1  \n",
       "4         1  "
      ]
     },
     "execution_count": 7,
     "metadata": {},
     "output_type": "execute_result"
    }
   ],
   "source": [
    "# Encode the response as 0,1 for down/up\n",
    "market_df['DirCoded'] = [0 if d == 'Down' else 1 for d in market_df.Direction]\n",
    "market_df.head()"
   ]
  },
  {
   "cell_type": "code",
   "execution_count": 8,
   "metadata": {},
   "outputs": [
    {
     "name": "stdout",
     "output_type": "stream",
     "text": [
      "Optimization terminated successfully.\n",
      "         Current function value: 0.691034\n",
      "         Iterations 4\n"
     ]
    },
    {
     "data": {
      "text/html": [
       "<table class=\"simpletable\">\n",
       "<caption>Logit Regression Results</caption>\n",
       "<tr>\n",
       "  <th>Dep. Variable:</th>     <td>DirCoded</td>     <th>  No. Observations:  </th>  <td>  1250</td> \n",
       "</tr>\n",
       "<tr>\n",
       "  <th>Model:</th>               <td>Logit</td>      <th>  Df Residuals:      </th>  <td>  1243</td> \n",
       "</tr>\n",
       "<tr>\n",
       "  <th>Method:</th>               <td>MLE</td>       <th>  Df Model:          </th>  <td>     6</td> \n",
       "</tr>\n",
       "<tr>\n",
       "  <th>Date:</th>          <td>Mon, 29 Jan 2018</td> <th>  Pseudo R-squ.:     </th> <td>0.002074</td>\n",
       "</tr>\n",
       "<tr>\n",
       "  <th>Time:</th>              <td>13:20:36</td>     <th>  Log-Likelihood:    </th> <td> -863.79</td>\n",
       "</tr>\n",
       "<tr>\n",
       "  <th>converged:</th>           <td>True</td>       <th>  LL-Null:           </th> <td> -865.59</td>\n",
       "</tr>\n",
       "<tr>\n",
       "  <th> </th>                      <td> </td>        <th>  LLR p-value:       </th>  <td>0.7319</td> \n",
       "</tr>\n",
       "</table>\n",
       "<table class=\"simpletable\">\n",
       "<tr>\n",
       "      <td></td>         <th>coef</th>     <th>std err</th>      <th>z</th>      <th>P>|z|</th>  <th>[0.025</th>    <th>0.975]</th>  \n",
       "</tr>\n",
       "<tr>\n",
       "  <th>Intercept</th> <td>   -0.1260</td> <td>    0.241</td> <td>   -0.523</td> <td> 0.601</td> <td>   -0.598</td> <td>    0.346</td>\n",
       "</tr>\n",
       "<tr>\n",
       "  <th>Lag1</th>      <td>   -0.0731</td> <td>    0.050</td> <td>   -1.457</td> <td> 0.145</td> <td>   -0.171</td> <td>    0.025</td>\n",
       "</tr>\n",
       "<tr>\n",
       "  <th>Lag2</th>      <td>   -0.0423</td> <td>    0.050</td> <td>   -0.845</td> <td> 0.398</td> <td>   -0.140</td> <td>    0.056</td>\n",
       "</tr>\n",
       "<tr>\n",
       "  <th>Lag3</th>      <td>    0.0111</td> <td>    0.050</td> <td>    0.222</td> <td> 0.824</td> <td>   -0.087</td> <td>    0.109</td>\n",
       "</tr>\n",
       "<tr>\n",
       "  <th>Lag4</th>      <td>    0.0094</td> <td>    0.050</td> <td>    0.187</td> <td> 0.851</td> <td>   -0.089</td> <td>    0.107</td>\n",
       "</tr>\n",
       "<tr>\n",
       "  <th>Lag5</th>      <td>    0.0103</td> <td>    0.050</td> <td>    0.208</td> <td> 0.835</td> <td>   -0.087</td> <td>    0.107</td>\n",
       "</tr>\n",
       "<tr>\n",
       "  <th>Volume</th>    <td>    0.1354</td> <td>    0.158</td> <td>    0.855</td> <td> 0.392</td> <td>   -0.175</td> <td>    0.446</td>\n",
       "</tr>\n",
       "</table>"
      ],
      "text/plain": [
       "<class 'statsmodels.iolib.summary.Summary'>\n",
       "\"\"\"\n",
       "                           Logit Regression Results                           \n",
       "==============================================================================\n",
       "Dep. Variable:               DirCoded   No. Observations:                 1250\n",
       "Model:                          Logit   Df Residuals:                     1243\n",
       "Method:                           MLE   Df Model:                            6\n",
       "Date:                Mon, 29 Jan 2018   Pseudo R-squ.:                0.002074\n",
       "Time:                        13:20:36   Log-Likelihood:                -863.79\n",
       "converged:                       True   LL-Null:                       -865.59\n",
       "                                        LLR p-value:                    0.7319\n",
       "==============================================================================\n",
       "                 coef    std err          z      P>|z|      [0.025      0.975]\n",
       "------------------------------------------------------------------------------\n",
       "Intercept     -0.1260      0.241     -0.523      0.601      -0.598       0.346\n",
       "Lag1          -0.0731      0.050     -1.457      0.145      -0.171       0.025\n",
       "Lag2          -0.0423      0.050     -0.845      0.398      -0.140       0.056\n",
       "Lag3           0.0111      0.050      0.222      0.824      -0.087       0.109\n",
       "Lag4           0.0094      0.050      0.187      0.851      -0.089       0.107\n",
       "Lag5           0.0103      0.050      0.208      0.835      -0.087       0.107\n",
       "Volume         0.1354      0.158      0.855      0.392      -0.175       0.446\n",
       "==============================================================================\n",
       "\"\"\""
      ]
     },
     "execution_count": 8,
     "metadata": {},
     "output_type": "execute_result"
    }
   ],
   "source": [
    "logit_fit = smf.logit('DirCoded ~ Lag1 + Lag2 + Lag3 + Lag4 + Lag5 + Volume', market_df).fit()\n",
    "logit_fit.summary()"
   ]
  },
  {
   "cell_type": "markdown",
   "metadata": {},
   "source": [
    "The smallest p-value here is associated with `Lag1`. The negative coefficient for this predictor suggests that if the market had a positive return yesterday, then it is less likely to go up today. However, at a value of 0.15, the p-value\n",
    "is still relatively large, and so there is no clear evidence of a real association between `Lag1` and `Direction`.\n",
    "\n",
    "We use the `params` method in order to access just the coefficients for this fitted model. We can also use the `summary()` function to access particular aspects of the fitted model, such as the p-values for the coefficients."
   ]
  },
  {
   "cell_type": "code",
   "execution_count": 9,
   "metadata": {},
   "outputs": [
    {
     "data": {
      "text/plain": [
       "Intercept   -0.1260\n",
       "Lag1        -0.0731\n",
       "Lag2        -0.0423\n",
       "Lag3         0.0111\n",
       "Lag4         0.0094\n",
       "Lag5         0.0103\n",
       "Volume       0.1354\n",
       "dtype: float64"
      ]
     },
     "execution_count": 9,
     "metadata": {},
     "output_type": "execute_result"
    }
   ],
   "source": [
    "logit_fit.params"
   ]
  },
  {
   "cell_type": "markdown",
   "metadata": {},
   "source": [
    "The `predict()` function can be used to predict the probability that the market will go up, given values of the predictors (as a data frame). The output is of the form P (Y = 1|X). If no data set is supplied to the predict() function, then the probabilities are computed for the training data that was used to fit the logistic regression model. Here we have printed only the first ten probabilities. We know that these values correspond to the probability of the market going up, rather than down, because we have created a dummy variable with a 1 for Up."
   ]
  },
  {
   "cell_type": "code",
   "execution_count": 10,
   "metadata": {},
   "outputs": [
    {
     "data": {
      "text/plain": [
       "0    0.5071\n",
       "1    0.4815\n",
       "2    0.4811\n",
       "3    0.5152\n",
       "4    0.5108\n",
       "5    0.5070\n",
       "6    0.4927\n",
       "7    0.5092\n",
       "8    0.5176\n",
       "9    0.4888\n",
       "dtype: float64"
      ]
     },
     "execution_count": 10,
     "metadata": {},
     "output_type": "execute_result"
    }
   ],
   "source": [
    "logit_probs = logit_fit.predict(market_df)\n",
    "logit_probs[:10]"
   ]
  },
  {
   "cell_type": "markdown",
   "metadata": {},
   "source": [
    "In order to make a prediction as to whether the market will go up or down on a particular day, we must convert these predicted probabilities into class labels, `Up` or `Down`. The following commands create a vector of class predictions based on whether the predicted probability of a market increase is greater than or less than 0.5."
   ]
  },
  {
   "cell_type": "code",
   "execution_count": 11,
   "metadata": {},
   "outputs": [
    {
     "data": {
      "text/plain": [
       "0      Up\n",
       "1    Down\n",
       "2    Down\n",
       "3      Up\n",
       "4      Up\n",
       "5      Up\n",
       "6    Down\n",
       "7      Up\n",
       "8      Up\n",
       "9    Down\n",
       "dtype: object"
      ]
     },
     "execution_count": 11,
     "metadata": {},
     "output_type": "execute_result"
    }
   ],
   "source": [
    "logit_pred = pd.Series(['Up' if p > 0.5 else 'Down' for p in logit_probs])\n",
    "logit_pred[:10]"
   ]
  },
  {
   "cell_type": "markdown",
   "metadata": {},
   "source": [
    "We can now build a confusion matrix in order to determine how many observations were correctly or incorrectly classified."
   ]
  },
  {
   "cell_type": "code",
   "execution_count": 12,
   "metadata": {},
   "outputs": [
    {
     "data": {
      "text/html": [
       "<div>\n",
       "<style>\n",
       "    .dataframe thead tr:only-child th {\n",
       "        text-align: right;\n",
       "    }\n",
       "\n",
       "    .dataframe thead th {\n",
       "        text-align: left;\n",
       "    }\n",
       "\n",
       "    .dataframe tbody tr th {\n",
       "        vertical-align: top;\n",
       "    }\n",
       "</style>\n",
       "<table border=\"1\" class=\"dataframe\">\n",
       "  <thead>\n",
       "    <tr style=\"text-align: right;\">\n",
       "      <th></th>\n",
       "      <th>Down</th>\n",
       "      <th>Up</th>\n",
       "    </tr>\n",
       "  </thead>\n",
       "  <tbody>\n",
       "    <tr>\n",
       "      <th>Down</th>\n",
       "      <td>145.0</td>\n",
       "      <td>457.0</td>\n",
       "    </tr>\n",
       "    <tr>\n",
       "      <th>Up</th>\n",
       "      <td>141.0</td>\n",
       "      <td>507.0</td>\n",
       "    </tr>\n",
       "  </tbody>\n",
       "</table>\n",
       "</div>"
      ],
      "text/plain": [
       "       Down     Up\n",
       "Down  145.0  457.0\n",
       "Up    141.0  507.0"
      ]
     },
     "execution_count": 12,
     "metadata": {},
     "output_type": "execute_result"
    }
   ],
   "source": [
    "table = logit_fit.pred_table(threshold=0.5)\n",
    "confusion_df = pd.DataFrame(table, ['Down','Up'], ['Down','Up'])\n",
    "confusion_df"
   ]
  },
  {
   "cell_type": "code",
   "execution_count": 13,
   "metadata": {},
   "outputs": [
    {
     "name": "stdout",
     "output_type": "stream",
     "text": [
      "The model made 0.5216 correct predictions on the TRAINING SET.\n"
     ]
    }
   ],
   "source": [
    "print('The model made {} correct predictions on the TRAINING SET.'.format((confusion_df.Down[0] + confusion_df.Up[1])/logit_fit.nobs))      "
   ]
  },
  {
   "cell_type": "markdown",
   "metadata": {},
   "source": [
    "The diagonal elements of the confusion matrix indicate correct predictions, while the off-diagonals represent incorrect predictions. Hence our model correctly predicted that the market would go up on 507 days and that it would go down on 145 days, for a total of 507 + 145 = 652 correct predictions. The mean() function can be used to compute the fraction of\n",
    "days for which the prediction was correct. In this case, logistic regression correctly predicted the movement of the market 52.2 % of the time."
   ]
  },
  {
   "cell_type": "code",
   "execution_count": 14,
   "metadata": {},
   "outputs": [
    {
     "data": {
      "text/plain": [
       "0.5216"
      ]
     },
     "execution_count": 14,
     "metadata": {},
     "output_type": "execute_result"
    }
   ],
   "source": [
    "np.mean(logit_pred == market_df.Direction)"
   ]
  },
  {
   "cell_type": "markdown",
   "metadata": {},
   "source": [
    "At first glance, it appears that the logistic regression model is working a little better than random guessing. However, this result is misleading because we trained and tested the model on the same set of 1,250 observations. In other words, 100 − 52.2 = 47.8 % is the training error rate. As we have seen previously, the training error rate is often overly optimistic - it tends to underestimate the test error rate. In order to better assess the accuracy of the logistic regression model in this setting, we can fit the model using part of the data, and then examine how well it predicts the held out data. This will yield a more realistic error rate, in the sense that in practice we will be interested in our model's performance not on the data that we used to fit the model, but rather on days in the future for which the\n",
    "market's movements are unknown.\n",
    "\n",
    "To implement this strategy, we will first create a vector corresponding to the observations from 2001 through 2004. We will then use this vector to create a held out data set of observations from 2005."
   ]
  },
  {
   "cell_type": "code",
   "execution_count": 15,
   "metadata": {},
   "outputs": [
    {
     "data": {
      "text/plain": [
       "(252, 11)"
      ]
     },
     "execution_count": 15,
     "metadata": {},
     "output_type": "execute_result"
    }
   ],
   "source": [
    "train_df = market_df[market_df.Year < 2005]\n",
    "test_df = market_df[market_df.Year == 2005]\n",
    "test_df.shape"
   ]
  },
  {
   "cell_type": "markdown",
   "metadata": {},
   "source": [
    "We now fit a logistic regression model using only the subset of the observations that correspond to dates before 2005. We then obtain predicted probabilities of the stock market going up for\n",
    "each of the days in our test set - that is, for the days in 2005."
   ]
  },
  {
   "cell_type": "code",
   "execution_count": 16,
   "metadata": {},
   "outputs": [
    {
     "name": "stdout",
     "output_type": "stream",
     "text": [
      "Optimization terminated successfully.\n",
      "         Current function value: 0.691936\n",
      "         Iterations 4\n"
     ]
    }
   ],
   "source": [
    "train_fit = smf.logit('DirCoded ~ Lag1 + Lag2 + Lag3 + Lag4 + Lag5 + Volume', train_df).fit()\n",
    "predicted_probs = train_fit.predict(test_df)"
   ]
  },
  {
   "cell_type": "markdown",
   "metadata": {},
   "source": [
    "Notice that we have trained and tested our model on two completely separate data sets: training was performed using only the dates before 2005, and testing was performed using only the dates in 2005. Finally, we compute the predictions for 2005 and compare them to the actual movements of the market over that time period."
   ]
  },
  {
   "cell_type": "code",
   "execution_count": 17,
   "metadata": {},
   "outputs": [
    {
     "name": "stdout",
     "output_type": "stream",
     "text": [
      "The model made 0.480158730159 % correct predictions on the TEST SET.\n"
     ]
    },
    {
     "name": "stderr",
     "output_type": "stream",
     "text": [
      "/home/gperaza/anaconda3/lib/python3.6/site-packages/ipykernel_launcher.py:1: SettingWithCopyWarning: \n",
      "A value is trying to be set on a copy of a slice from a DataFrame.\n",
      "Try using .loc[row_indexer,col_indexer] = value instead\n",
      "\n",
      "See the caveats in the documentation: http://pandas.pydata.org/pandas-docs/stable/indexing.html#indexing-view-versus-copy\n",
      "  \"\"\"Entry point for launching an IPython kernel.\n"
     ]
    },
    {
     "data": {
      "text/html": [
       "<div>\n",
       "<style>\n",
       "    .dataframe thead tr:only-child th {\n",
       "        text-align: right;\n",
       "    }\n",
       "\n",
       "    .dataframe thead th {\n",
       "        text-align: left;\n",
       "    }\n",
       "\n",
       "    .dataframe tbody tr th {\n",
       "        vertical-align: top;\n",
       "    }\n",
       "</style>\n",
       "<table border=\"1\" class=\"dataframe\">\n",
       "  <thead>\n",
       "    <tr style=\"text-align: right;\">\n",
       "      <th>Direction</th>\n",
       "      <th>Down</th>\n",
       "      <th>Up</th>\n",
       "    </tr>\n",
       "    <tr>\n",
       "      <th>preds</th>\n",
       "      <th></th>\n",
       "      <th></th>\n",
       "    </tr>\n",
       "  </thead>\n",
       "  <tbody>\n",
       "    <tr>\n",
       "      <th>Down</th>\n",
       "      <td>77</td>\n",
       "      <td>97</td>\n",
       "    </tr>\n",
       "    <tr>\n",
       "      <th>Up</th>\n",
       "      <td>34</td>\n",
       "      <td>44</td>\n",
       "    </tr>\n",
       "  </tbody>\n",
       "</table>\n",
       "</div>"
      ],
      "text/plain": [
       "Direction  Down  Up\n",
       "preds              \n",
       "Down         77  97\n",
       "Up           34  44"
      ]
     },
     "execution_count": 17,
     "metadata": {},
     "output_type": "execute_result"
    }
   ],
   "source": [
    "test_df['preds'] = ['Up' if p > 0.5 else 'Down' for p in predicted_probs]\n",
    "print('The model made', np.mean(test_df.preds == test_df.Direction),'% correct predictions on the TEST SET.')\n",
    "\n",
    "# Stats models doesn't have an option for a confusion matrix for test sets-- we build one by hand\n",
    "pd.crosstab(test_df.preds, test_df.Direction)"
   ]
  },
  {
   "cell_type": "code",
   "execution_count": 18,
   "metadata": {},
   "outputs": [
    {
     "name": "stdout",
     "output_type": "stream",
     "text": [
      "The model made 0.519841269841 % incorrect predictions on the TEST SET.\n"
     ]
    }
   ],
   "source": [
    "print('The model made', np.mean(test_df.preds != test_df.Direction),'% incorrect predictions on the TEST SET.')"
   ]
  },
  {
   "cell_type": "markdown",
   "metadata": {},
   "source": [
    "The != notation means not equal to, and so the last command computes the test set error rate. The results are rather disappointing: the test error rate is 52 %, which is worse than random guessing! Of course this result is not all that surprising, given that one would not generally expect to be able to use previous days' returns to predict future market performance.\n",
    "\n",
    "We recall that the logistic regression model had very underwhelming p-values associated with all of the predictors, and that the smallest p-value, though not very small, corresponded to `Lag1`. Perhaps by removing the variables that appear not to be helpful in predicting Direction, we can obtain a more effective model. After all, using predictors that have no\n",
    "relationship with the response tends to cause a deterioration in the test error rate (since such predictors cause an increase in variance without a corresponding decrease in bias), and so removing such predictors may in turn yield an improvement. Below we have refit the logistic regression using just `Lag1` and `Lag2`, which seemed to have the highest predictive power in the original logistic regression model."
   ]
  },
  {
   "cell_type": "code",
   "execution_count": 19,
   "metadata": {},
   "outputs": [
    {
     "name": "stdout",
     "output_type": "stream",
     "text": [
      "Optimization terminated successfully.\n",
      "         Current function value: 0.692085\n",
      "         Iterations 3\n",
      "The model made 0.559523809524 % correct predictions on the TEST SET.\n"
     ]
    },
    {
     "name": "stderr",
     "output_type": "stream",
     "text": [
      "/home/gperaza/anaconda3/lib/python3.6/site-packages/ipykernel_launcher.py:3: SettingWithCopyWarning: \n",
      "A value is trying to be set on a copy of a slice from a DataFrame.\n",
      "Try using .loc[row_indexer,col_indexer] = value instead\n",
      "\n",
      "See the caveats in the documentation: http://pandas.pydata.org/pandas-docs/stable/indexing.html#indexing-view-versus-copy\n",
      "  This is separate from the ipykernel package so we can avoid doing imports until\n"
     ]
    },
    {
     "data": {
      "text/html": [
       "<div>\n",
       "<style>\n",
       "    .dataframe thead tr:only-child th {\n",
       "        text-align: right;\n",
       "    }\n",
       "\n",
       "    .dataframe thead th {\n",
       "        text-align: left;\n",
       "    }\n",
       "\n",
       "    .dataframe tbody tr th {\n",
       "        vertical-align: top;\n",
       "    }\n",
       "</style>\n",
       "<table border=\"1\" class=\"dataframe\">\n",
       "  <thead>\n",
       "    <tr style=\"text-align: right;\">\n",
       "      <th>Direction</th>\n",
       "      <th>Down</th>\n",
       "      <th>Up</th>\n",
       "    </tr>\n",
       "    <tr>\n",
       "      <th>preds</th>\n",
       "      <th></th>\n",
       "      <th></th>\n",
       "    </tr>\n",
       "  </thead>\n",
       "  <tbody>\n",
       "    <tr>\n",
       "      <th>Down</th>\n",
       "      <td>35</td>\n",
       "      <td>35</td>\n",
       "    </tr>\n",
       "    <tr>\n",
       "      <th>Up</th>\n",
       "      <td>76</td>\n",
       "      <td>106</td>\n",
       "    </tr>\n",
       "  </tbody>\n",
       "</table>\n",
       "</div>"
      ],
      "text/plain": [
       "Direction  Down   Up\n",
       "preds               \n",
       "Down         35   35\n",
       "Up           76  106"
      ]
     },
     "execution_count": 19,
     "metadata": {},
     "output_type": "execute_result"
    }
   ],
   "source": [
    "train_fit = smf.logit('DirCoded ~ Lag1 + Lag2', train_df).fit()\n",
    "predicted_probs = train_fit.predict(test_df)\n",
    "test_df['preds'] = ['Up' if p > 0.5 else 'Down' for p in predicted_probs]\n",
    "print('The model made', np.mean(test_df.preds == test_df.Direction),'% correct predictions on the TEST SET.')\n",
    "\n",
    "# Stats models doesn't have an option for a confusion matrix for test sets-- we build one by hand\n",
    "table = pd.crosstab(test_df.preds, test_df.Direction)\n",
    "table"
   ]
  },
  {
   "cell_type": "code",
   "execution_count": 20,
   "metadata": {},
   "outputs": [
    {
     "name": "stdout",
     "output_type": "stream",
     "text": [
      "On days where the prediction day is 'Up' the probability the market will be 'Up' is 0.582417582418\n"
     ]
    }
   ],
   "source": [
    "print('On days where the prediction day is \\'Up\\' the probability the market will be \\'Up\\' is',\n",
    "      table['Up']['Up']/(table['Down']['Up'] + table['Up']['Up']))"
   ]
  },
  {
   "cell_type": "markdown",
   "metadata": {},
   "source": [
    "Now the results appear to be a little better: 56% of the daily movements have been correctly predicted. It is worth noting that in this case, a much simpler strategy of predicting that the market will increase every day will\n",
    "also be correct 56% of the time! Hence, in terms of overall error rate, the logistic regression method is no better than the naive approach. However, the confusion matrix shows that on days when logistic regression predicts an increase in the market, it has a 58% accuracy rate. This suggests a possible trading strategy of buying on days when the model predicts an increasing market, and avoiding trades on days when a decrease is predicted. Of course one would need to investigate more carefully whether this small improvement was real or just due to random chance.\n",
    "\n",
    "Suppose that we want to predict the returns associated with particular values of `Lag1` and `Lag2`. In particular, we want to predict `Direction` on a day when `Lag1` and `Lag2` equal 1.2 and 1.1, respectively, and on a day when they equal 1.5 and -0.8. We do this using the predict() function."
   ]
  },
  {
   "cell_type": "code",
   "execution_count": 21,
   "metadata": {},
   "outputs": [
    {
     "data": {
      "text/plain": [
       "0    0.4791\n",
       "1    0.4961\n",
       "dtype: float64"
      ]
     },
     "execution_count": 21,
     "metadata": {},
     "output_type": "execute_result"
    }
   ],
   "source": [
    "train_fit.predict(pd.DataFrame({'Lag1':[1.2, 1.5], 'Lag2':[1.1,-0.8]}))"
   ]
  },
  {
   "cell_type": "markdown",
   "metadata": {
    "collapsed": true
   },
   "source": [
    "## Linear Discriminant Analysis"
   ]
  },
  {
   "cell_type": "markdown",
   "metadata": {},
   "source": [
    "Now we will perform LDA on the `Smarket` data. In Python, we fit an LDA model using the `LinearDiscriminantAnalysis` function, which is part of the `sklearn` module.We fit the model using only the observations before 2005."
   ]
  },
  {
   "cell_type": "code",
   "execution_count": 22,
   "metadata": {
    "collapsed": true
   },
   "outputs": [],
   "source": [
    "from sklearn.discriminant_analysis import LinearDiscriminantAnalysis as LDA"
   ]
  },
  {
   "cell_type": "code",
   "execution_count": 23,
   "metadata": {},
   "outputs": [
    {
     "name": "stdout",
     "output_type": "stream",
     "text": [
      "Class Priors (P(Y = k)) = [ 0.492  0.508]\n",
      "Class Means μk\n",
      "   Down: [ 0.0428  0.0339] \n",
      "   Up:   [-0.0395 -0.0313]\n",
      "Coeffecients =\n",
      " [[-0.642 ]\n",
      " [-0.5135]]\n"
     ]
    }
   ],
   "source": [
    "# use lag 1 and lag 2 as the predictors\n",
    "predictors = ['Lag1','Lag2']\n",
    "\n",
    "X_train = train_df[predictors]\n",
    "Y_train = train_df.DirCoded\n",
    "\n",
    "# Create Classifier Instance\n",
    "lda_clf = LDA()\n",
    "# Fit model\n",
    "lda_clf.fit(X_train,Y_train)\n",
    "\n",
    "print('Class Priors (P(Y = k)) =', lda_clf.priors_)\n",
    "print('Class Means μk\\n   Down:', lda_clf.means_[0], '\\n   Up:  ', lda_clf.means_[1])\n",
    "print('Coeffecients =\\n', lda_clf.scalings_)"
   ]
  },
  {
   "cell_type": "markdown",
   "metadata": {},
   "source": [
    "The LDA output indicates that $\\pi_1 = 0.492$ and $\\pi_2 = 0.508$; in other words, 49.2 % of the training observations correspond to days during which the market went down. It also provides the group means; these are the average of each predictor within each class, and are used by LDA as estimates of $\\mu_k$ . These suggest that there is a tendency for the previous 2 days' returns to be negative on days when the market increases, and a tendency for the previous days' returns to be positive on days when the market declines. The coefficients of linear discriminants output provides the linear\n",
    "combination of Lag1 and Lag2 that are used to form the LDA decision rule. In other words, these are the multipliers of the elements of $X = x$ in (4.19). If $-0.642 \\times Lag1 - 0.514 \\times Lag2$ is large, then the LDA classifier will predict a market increase, and if it is small, then the LDA classifier will predict a market decline. \n",
    "\n",
    "We now plot the predictors and the Bayes decision boundary."
   ]
  },
  {
   "cell_type": "code",
   "execution_count": 24,
   "metadata": {},
   "outputs": [
    {
     "data": {
      "image/png": "[encoded data removed]",
      "text/plain": [
       "<matplotlib.figure.Figure at 0x7f65ee3502b0>"
      ]
     },
     "metadata": {},
     "output_type": "display_data"
    }
   ],
   "source": [
    "# Scatter plot the data colored by market direction #\n",
    "#####################################################\n",
    "fig, ax = plt.subplots(figsize=(8,8))\n",
    "# Plot the training lags color coded by market direction\n",
    "ax.scatter(X_train[Y_train==1].Lag1, X_train[Y_train==1].Lag2, alpha=0.7, label='Up');\n",
    "ax.scatter(X_train[Y_train==0].Lag1, X_train[Y_train==0].Lag2, alpha=0.7, label='Down');\n",
    "\n",
    "\n",
    "# Calculate Bayes Decision Boundary #\n",
    "#####################################\n",
    "# Construct a meshgrid to calulate Bayes Boundary over\n",
    "nx, ny = 200, 200\n",
    "x_min, x_max = plt.xlim()\n",
    "y_min, y_max = plt.ylim()\n",
    "xx, yy = np.meshgrid(np.linspace(x_min, x_max, nx), np.linspace(y_min, y_max, ny))\n",
    "\n",
    "# Use predict_proba to calculate Probability at each x1,x2 pair\n",
    "Z = lda_clf.predict_proba(np.c_[xx.ravel(), yy.ravel()])\n",
    "Z = Z[:, 1].reshape(xx.shape)\n",
    "# The Bayes Boundary for k=2 classes is the contour where P(Y=k|X=x) = 0.5\n",
    "cp = ax.contour(xx, yy, Z, [0.5], linewidths=1., colors='k');\n",
    "plt.clabel(cp, inline=True, fmt='Bayes Decision Boundary',fontsize=8)\n",
    "\n",
    "# Plot mean lag vector (lag1,lag2) for each class 'Up' and 'Down' #\n",
    "###################################################################\n",
    "ax.plot(lda_clf.means_[0][0], lda_clf.means_[0][1], 'o', color='red', markersize=10);\n",
    "ax.plot(lda_clf.means_[1][0], lda_clf.means_[1][1], 'o', color='blue', markersize=10);\n",
    "\n",
    "\n",
    "ax.set_xlabel('Lag1')\n",
    "ax.set_ylabel('Lag2')\n",
    "ax.legend(loc='best');"
   ]
  },
  {
   "cell_type": "markdown",
   "metadata": {},
   "source": [
    "The predict() function returns LDA's predictions about the movement of the market."
   ]
  },
  {
   "cell_type": "code",
   "execution_count": 25,
   "metadata": {},
   "outputs": [
    {
     "data": {
      "text/plain": [
       "array([1, 1, 1, 1, 1, 1, 1, 1, 1, 1, 1, 0, 1, 1, 1, 1, 1, 0, 1, 1, 0, 0, 0,\n",
       "       1, 0, 0, 1, 1, 1, 0, 0, 1, 1, 1, 1, 1, 1, 0, 0, 1, 1, 1, 1, 0, 0, 1,\n",
       "       1, 1, 1, 1, 1, 1, 1, 1, 1, 1, 1, 1, 1, 1, 0, 0, 1, 1, 0, 0, 0, 1, 1,\n",
       "       1, 1, 1, 1, 1, 0, 1, 0, 0, 1, 1, 1, 1, 1, 0, 1, 0, 0, 1, 1, 1, 1, 1,\n",
       "       1, 0, 0, 0, 0, 1, 1, 1, 1, 1, 0, 1, 1, 0, 1, 1, 1, 1, 1, 1, 1, 1, 1,\n",
       "       1, 0, 1, 1, 1, 1, 1, 1, 0, 0, 1, 1, 0, 1, 1, 0, 0, 0, 1, 1, 1, 1, 1,\n",
       "       0, 1, 1, 1, 1, 0, 0, 1, 1, 0, 0, 1, 1, 1, 1, 1, 1, 1, 1, 1, 1, 1, 1,\n",
       "       1, 1, 1, 1, 1, 1, 1, 0, 0, 1, 0, 0, 1, 1, 1, 1, 1, 1, 0, 1, 1, 1, 1,\n",
       "       1, 1, 1, 1, 0, 0, 1, 1, 1, 1, 1, 1, 1, 1, 1, 0, 0, 1, 0, 1, 1, 0, 0,\n",
       "       1, 1, 0, 0, 1, 0, 0, 1, 1, 1, 1, 0, 0, 1, 1, 1, 0, 0, 0, 0, 0, 1, 1,\n",
       "       1, 1, 0, 0, 1, 1, 1, 1, 1, 1, 0, 0, 1, 1, 1, 1, 1, 0, 1, 1, 1, 1])"
      ]
     },
     "execution_count": 25,
     "metadata": {},
     "output_type": "execute_result"
    }
   ],
   "source": [
    "lda_pred_class_coded = lda_clf.predict(test_df[predictors])\n",
    "lda_pred_class_coded"
   ]
  },
  {
   "cell_type": "code",
   "execution_count": 26,
   "metadata": {},
   "outputs": [
    {
     "name": "stderr",
     "output_type": "stream",
     "text": [
      "/home/gperaza/anaconda3/lib/python3.6/site-packages/ipykernel_launcher.py:2: SettingWithCopyWarning: \n",
      "A value is trying to be set on a copy of a slice from a DataFrame.\n",
      "Try using .loc[row_indexer,col_indexer] = value instead\n",
      "\n",
      "See the caveats in the documentation: http://pandas.pydata.org/pandas-docs/stable/indexing.html#indexing-view-versus-copy\n",
      "  \n"
     ]
    },
    {
     "data": {
      "text/plain": [
       "['Up', 'Up', 'Up', 'Up', 'Up', 'Up', 'Up', 'Up', 'Up', 'Up']"
      ]
     },
     "execution_count": 26,
     "metadata": {},
     "output_type": "execute_result"
    }
   ],
   "source": [
    "lda_pred_class = ['Up' if c == 1 else 'Down' for c in lda_pred_class_coded]\n",
    "test_df['lda_pred_class'] = lda_pred_class\n",
    "lda_pred_class[:10]"
   ]
  },
  {
   "cell_type": "code",
   "execution_count": 27,
   "metadata": {},
   "outputs": [
    {
     "data": {
      "text/html": [
       "<div>\n",
       "<style>\n",
       "    .dataframe thead tr:only-child th {\n",
       "        text-align: right;\n",
       "    }\n",
       "\n",
       "    .dataframe thead th {\n",
       "        text-align: left;\n",
       "    }\n",
       "\n",
       "    .dataframe tbody tr th {\n",
       "        vertical-align: top;\n",
       "    }\n",
       "</style>\n",
       "<table border=\"1\" class=\"dataframe\">\n",
       "  <thead>\n",
       "    <tr style=\"text-align: right;\">\n",
       "      <th>Direction</th>\n",
       "      <th>Down</th>\n",
       "      <th>Up</th>\n",
       "    </tr>\n",
       "    <tr>\n",
       "      <th>lda_pred_class</th>\n",
       "      <th></th>\n",
       "      <th></th>\n",
       "    </tr>\n",
       "  </thead>\n",
       "  <tbody>\n",
       "    <tr>\n",
       "      <th>Down</th>\n",
       "      <td>35</td>\n",
       "      <td>35</td>\n",
       "    </tr>\n",
       "    <tr>\n",
       "      <th>Up</th>\n",
       "      <td>76</td>\n",
       "      <td>106</td>\n",
       "    </tr>\n",
       "  </tbody>\n",
       "</table>\n",
       "</div>"
      ],
      "text/plain": [
       "Direction       Down   Up\n",
       "lda_pred_class           \n",
       "Down              35   35\n",
       "Up                76  106"
      ]
     },
     "execution_count": 27,
     "metadata": {},
     "output_type": "execute_result"
    }
   ],
   "source": [
    "# Compute Test Confusion Matrix #\n",
    "#################################\n",
    "table = pd.crosstab(test_df.lda_pred_class, test_df.Direction)\n",
    "table"
   ]
  },
  {
   "cell_type": "code",
   "execution_count": 28,
   "metadata": {},
   "outputs": [
    {
     "data": {
      "text/plain": [
       "0.5595"
      ]
     },
     "execution_count": 28,
     "metadata": {},
     "output_type": "execute_result"
    }
   ],
   "source": [
    "np.mean(test_df.lda_pred_class == test_df.Direction)"
   ]
  },
  {
   "cell_type": "markdown",
   "metadata": {},
   "source": [
    "The predict_proba() function returns a matrix whose k$^{th}$ column contains the posterior probability that the corresponding observation belongs to the k$^{th}$ class, computed from (4.10). "
   ]
  },
  {
   "cell_type": "code",
   "execution_count": 29,
   "metadata": {},
   "outputs": [
    {
     "data": {
      "text/plain": [
       "array([[ 0.4902,  0.5098],\n",
       "       [ 0.4792,  0.5208],\n",
       "       [ 0.4668,  0.5332],\n",
       "       [ 0.474 ,  0.526 ],\n",
       "       [ 0.4928,  0.5072],\n",
       "       [ 0.4939,  0.5061],\n",
       "       [ 0.4951,  0.5049],\n",
       "       [ 0.4873,  0.5127],\n",
       "       [ 0.4907,  0.5093],\n",
       "       [ 0.4844,  0.5156],\n",
       "       [ 0.4907,  0.5093],\n",
       "       [ 0.512 ,  0.488 ],\n",
       "       [ 0.4895,  0.5105],\n",
       "       [ 0.4707,  0.5293],\n",
       "       [ 0.4745,  0.5255],\n",
       "       [ 0.48  ,  0.52  ],\n",
       "       [ 0.4936,  0.5064],\n",
       "       [ 0.5031,  0.4969],\n",
       "       [ 0.4979,  0.5021],\n",
       "       [ 0.4886,  0.5114],\n",
       "       [ 0.5007,  0.4993],\n",
       "       [ 0.5109,  0.4891],\n",
       "       [ 0.504 ,  0.496 ],\n",
       "       [ 0.4916,  0.5084],\n",
       "       [ 0.5042,  0.4958],\n",
       "       [ 0.5027,  0.4973],\n",
       "       [ 0.4914,  0.5086],\n",
       "       [ 0.4806,  0.5194],\n",
       "       [ 0.4883,  0.5117],\n",
       "       [ 0.5062,  0.4938],\n",
       "       [ 0.5006,  0.4994],\n",
       "       [ 0.4973,  0.5027],\n",
       "       [ 0.4959,  0.5041],\n",
       "       [ 0.4812,  0.5188],\n",
       "       [ 0.4841,  0.5159],\n",
       "       [ 0.4726,  0.5274],\n",
       "       [ 0.4836,  0.5164],\n",
       "       [ 0.5091,  0.4909],\n",
       "       [ 0.5136,  0.4864],\n",
       "       [ 0.4934,  0.5066],\n",
       "       [ 0.4927,  0.5073],\n",
       "       [ 0.4978,  0.5022],\n",
       "       [ 0.4921,  0.5079],\n",
       "       [ 0.5056,  0.4944],\n",
       "       [ 0.5062,  0.4938],\n",
       "       [ 0.4882,  0.5118],\n",
       "       [ 0.4725,  0.5275],\n",
       "       [ 0.4832,  0.5168],\n",
       "       [ 0.4835,  0.5165],\n",
       "       [ 0.4913,  0.5087],\n",
       "       [ 0.4878,  0.5122],\n",
       "       [ 0.4724,  0.5276],\n",
       "       [ 0.4855,  0.5145],\n",
       "       [ 0.4933,  0.5067],\n",
       "       [ 0.4846,  0.5154],\n",
       "       [ 0.4724,  0.5276],\n",
       "       [ 0.4816,  0.5184],\n",
       "       [ 0.4914,  0.5086],\n",
       "       [ 0.4943,  0.5057],\n",
       "       [ 0.4841,  0.5159],\n",
       "       [ 0.5026,  0.4974],\n",
       "       [ 0.5063,  0.4937],\n",
       "       [ 0.4822,  0.5178],\n",
       "       [ 0.4885,  0.5115],\n",
       "       [ 0.5012,  0.4988],\n",
       "       [ 0.5001,  0.4999],\n",
       "       [ 0.5027,  0.4973],\n",
       "       [ 0.487 ,  0.513 ],\n",
       "       [ 0.4827,  0.5173],\n",
       "       [ 0.4997,  0.5003],\n",
       "       [ 0.4818,  0.5182],\n",
       "       [ 0.4651,  0.5349],\n",
       "       [ 0.4578,  0.5422],\n",
       "       [ 0.4775,  0.5225],\n",
       "       [ 0.5034,  0.4966],\n",
       "       [ 0.4802,  0.5198],\n",
       "       [ 0.5046,  0.4954],\n",
       "       [ 0.5045,  0.4955],\n",
       "       [ 0.4965,  0.5035],\n",
       "       [ 0.4893,  0.5107],\n",
       "       [ 0.4876,  0.5124],\n",
       "       [ 0.4806,  0.5194],\n",
       "       [ 0.4959,  0.5041],\n",
       "       [ 0.5115,  0.4885],\n",
       "       [ 0.4959,  0.5041],\n",
       "       [ 0.5083,  0.4917],\n",
       "       [ 0.5022,  0.4978],\n",
       "       [ 0.4876,  0.5124],\n",
       "       [ 0.4996,  0.5004],\n",
       "       [ 0.4842,  0.5158],\n",
       "       [ 0.4859,  0.5141],\n",
       "       [ 0.4827,  0.5173],\n",
       "       [ 0.4745,  0.5255],\n",
       "       [ 0.5009,  0.4991],\n",
       "       [ 0.5128,  0.4872],\n",
       "       [ 0.5135,  0.4865],\n",
       "       [ 0.5095,  0.4905],\n",
       "       [ 0.495 ,  0.505 ],\n",
       "       [ 0.4956,  0.5044],\n",
       "       [ 0.4965,  0.5035],\n",
       "       [ 0.4874,  0.5126],\n",
       "       [ 0.497 ,  0.503 ],\n",
       "       [ 0.5004,  0.4996],\n",
       "       [ 0.4846,  0.5154],\n",
       "       [ 0.4977,  0.5023],\n",
       "       [ 0.5043,  0.4957],\n",
       "       [ 0.4843,  0.5157],\n",
       "       [ 0.4861,  0.5139],\n",
       "       [ 0.493 ,  0.507 ],\n",
       "       [ 0.4887,  0.5113],\n",
       "       [ 0.4968,  0.5032],\n",
       "       [ 0.4945,  0.5055],\n",
       "       [ 0.4925,  0.5075],\n",
       "       [ 0.498 ,  0.502 ],\n",
       "       [ 0.4979,  0.5021],\n",
       "       [ 0.4994,  0.5006],\n",
       "       [ 0.5028,  0.4972],\n",
       "       [ 0.4965,  0.5035],\n",
       "       [ 0.4883,  0.5117],\n",
       "       [ 0.49  ,  0.51  ],\n",
       "       [ 0.4772,  0.5228],\n",
       "       [ 0.4694,  0.5306],\n",
       "       [ 0.4825,  0.5175],\n",
       "       [ 0.5038,  0.4962],\n",
       "       [ 0.5001,  0.4999],\n",
       "       [ 0.4805,  0.5195],\n",
       "       [ 0.4877,  0.5123],\n",
       "       [ 0.5071,  0.4929],\n",
       "       [ 0.4902,  0.5098],\n",
       "       [ 0.4861,  0.5139],\n",
       "       [ 0.5108,  0.4892],\n",
       "       [ 0.5136,  0.4864],\n",
       "       [ 0.502 ,  0.498 ],\n",
       "       [ 0.4957,  0.5043],\n",
       "       [ 0.4966,  0.5034],\n",
       "       [ 0.4965,  0.5035],\n",
       "       [ 0.4856,  0.5144],\n",
       "       [ 0.4951,  0.5049],\n",
       "       [ 0.506 ,  0.494 ],\n",
       "       [ 0.4881,  0.5119],\n",
       "       [ 0.4921,  0.5079],\n",
       "       [ 0.4927,  0.5073],\n",
       "       [ 0.4902,  0.5098],\n",
       "       [ 0.5002,  0.4998],\n",
       "       [ 0.5048,  0.4952],\n",
       "       [ 0.4875,  0.5125],\n",
       "       [ 0.4848,  0.5152],\n",
       "       [ 0.5028,  0.4972],\n",
       "       [ 0.5008,  0.4992],\n",
       "       [ 0.4826,  0.5174],\n",
       "       [ 0.4732,  0.5268],\n",
       "       [ 0.4798,  0.5202],\n",
       "       [ 0.4983,  0.5017],\n",
       "       [ 0.4969,  0.5031],\n",
       "       [ 0.4997,  0.5003],\n",
       "       [ 0.4915,  0.5085],\n",
       "       [ 0.4892,  0.5108],\n",
       "       [ 0.4788,  0.5212],\n",
       "       [ 0.4799,  0.5201],\n",
       "       [ 0.4914,  0.5086],\n",
       "       [ 0.4916,  0.5084],\n",
       "       [ 0.4949,  0.5051],\n",
       "       [ 0.4891,  0.5109],\n",
       "       [ 0.4791,  0.5209],\n",
       "       [ 0.4879,  0.5121],\n",
       "       [ 0.4862,  0.5138],\n",
       "       [ 0.4936,  0.5064],\n",
       "       [ 0.4941,  0.5059],\n",
       "       [ 0.5021,  0.4979],\n",
       "       [ 0.5043,  0.4957],\n",
       "       [ 0.489 ,  0.511 ],\n",
       "       [ 0.5062,  0.4938],\n",
       "       [ 0.5093,  0.4907],\n",
       "       [ 0.4894,  0.5106],\n",
       "       [ 0.4988,  0.5012],\n",
       "       [ 0.4997,  0.5003],\n",
       "       [ 0.4807,  0.5193],\n",
       "       [ 0.4791,  0.5209],\n",
       "       [ 0.4889,  0.5111],\n",
       "       [ 0.5039,  0.4961],\n",
       "       [ 0.4934,  0.5066],\n",
       "       [ 0.4749,  0.5251],\n",
       "       [ 0.4706,  0.5294],\n",
       "       [ 0.4869,  0.5131],\n",
       "       [ 0.4968,  0.5032],\n",
       "       [ 0.4929,  0.5071],\n",
       "       [ 0.4923,  0.5077],\n",
       "       [ 0.4934,  0.5066],\n",
       "       [ 0.5054,  0.4946],\n",
       "       [ 0.5031,  0.4969],\n",
       "       [ 0.4906,  0.5094],\n",
       "       [ 0.4762,  0.5238],\n",
       "       [ 0.4603,  0.5397],\n",
       "       [ 0.4698,  0.5302],\n",
       "       [ 0.4925,  0.5075],\n",
       "       [ 0.4861,  0.5139],\n",
       "       [ 0.4811,  0.5189],\n",
       "       [ 0.4812,  0.5188],\n",
       "       [ 0.4842,  0.5158],\n",
       "       [ 0.5026,  0.4974],\n",
       "       [ 0.5052,  0.4948],\n",
       "       [ 0.4813,  0.5187],\n",
       "       [ 0.5015,  0.4985],\n",
       "       [ 0.4877,  0.5123],\n",
       "       [ 0.4774,  0.5226],\n",
       "       [ 0.5169,  0.4831],\n",
       "       [ 0.5073,  0.4927],\n",
       "       [ 0.4834,  0.5166],\n",
       "       [ 0.4727,  0.5273],\n",
       "       [ 0.5033,  0.4967],\n",
       "       [ 0.5202,  0.4798],\n",
       "       [ 0.495 ,  0.505 ],\n",
       "       [ 0.5019,  0.4981],\n",
       "       [ 0.5089,  0.4911],\n",
       "       [ 0.4969,  0.5031],\n",
       "       [ 0.4952,  0.5048],\n",
       "       [ 0.4896,  0.5104],\n",
       "       [ 0.4905,  0.5095],\n",
       "       [ 0.5055,  0.4945],\n",
       "       [ 0.5055,  0.4945],\n",
       "       [ 0.4942,  0.5058],\n",
       "       [ 0.4857,  0.5143],\n",
       "       [ 0.4902,  0.5098],\n",
       "       [ 0.507 ,  0.493 ],\n",
       "       [ 0.5085,  0.4915],\n",
       "       [ 0.5041,  0.4959],\n",
       "       [ 0.5048,  0.4952],\n",
       "       [ 0.5024,  0.4976],\n",
       "       [ 0.4987,  0.5013],\n",
       "       [ 0.4825,  0.5175],\n",
       "       [ 0.4825,  0.5175],\n",
       "       [ 0.4832,  0.5168],\n",
       "       [ 0.5017,  0.4983],\n",
       "       [ 0.5059,  0.4941],\n",
       "       [ 0.489 ,  0.511 ],\n",
       "       [ 0.4911,  0.5089],\n",
       "       [ 0.4864,  0.5136],\n",
       "       [ 0.4847,  0.5153],\n",
       "       [ 0.4945,  0.5055],\n",
       "       [ 0.4962,  0.5038],\n",
       "       [ 0.5006,  0.4994],\n",
       "       [ 0.5039,  0.4961],\n",
       "       [ 0.4946,  0.5054],\n",
       "       [ 0.4864,  0.5136],\n",
       "       [ 0.4807,  0.5193],\n",
       "       [ 0.4851,  0.5149],\n",
       "       [ 0.4952,  0.5048],\n",
       "       [ 0.5006,  0.4994],\n",
       "       [ 0.4972,  0.5028],\n",
       "       [ 0.4792,  0.5208],\n",
       "       [ 0.4832,  0.5168],\n",
       "       [ 0.4893,  0.5107]])"
      ]
     },
     "execution_count": 29,
     "metadata": {},
     "output_type": "execute_result"
    }
   ],
   "source": [
    "lda_pred_posterior = lda_clf.predict_proba(test_df[predictors])\n",
    "lda_pred_posterior"
   ]
  },
  {
   "cell_type": "markdown",
   "metadata": {},
   "source": [
    "As we observed in the previous section, the LDA and logistic regression predictions are almost identical.\n",
    "\n",
    "Applying a 50 % threshold to the posterior probabilities allows us to recreate the predictions contained in lda_pred_class."
   ]
  },
  {
   "cell_type": "code",
   "execution_count": 30,
   "metadata": {},
   "outputs": [
    {
     "data": {
      "text/plain": [
       "70"
      ]
     },
     "execution_count": 30,
     "metadata": {},
     "output_type": "execute_result"
    }
   ],
   "source": [
    "np.sum(lda_pred_posterior[:,0] >= 0.5)"
   ]
  },
  {
   "cell_type": "code",
   "execution_count": 31,
   "metadata": {},
   "outputs": [
    {
     "data": {
      "text/plain": [
       "182"
      ]
     },
     "execution_count": 31,
     "metadata": {},
     "output_type": "execute_result"
    }
   ],
   "source": [
    "np.sum(lda_pred_posterior[:,1] >= 0.5)"
   ]
  },
  {
   "cell_type": "markdown",
   "metadata": {},
   "source": [
    "Notice that the posterior probability output by the model corresponds to the probability that the market will decrease:"
   ]
  },
  {
   "cell_type": "code",
   "execution_count": 32,
   "metadata": {},
   "outputs": [
    {
     "data": {
      "text/plain": [
       "array([ 0.4902,  0.4792,  0.4668,  0.474 ,  0.4928,  0.4939,  0.4951,\n",
       "        0.4873,  0.4907,  0.4844,  0.4907,  0.512 ,  0.4895,  0.4707,\n",
       "        0.4745,  0.48  ,  0.4936,  0.5031,  0.4979,  0.4886])"
      ]
     },
     "execution_count": 32,
     "metadata": {},
     "output_type": "execute_result"
    }
   ],
   "source": [
    "lda_pred_posterior[:20,0]"
   ]
  },
  {
   "cell_type": "code",
   "execution_count": 33,
   "metadata": {},
   "outputs": [
    {
     "data": {
      "text/plain": [
       "998       Up\n",
       "999       Up\n",
       "1000      Up\n",
       "1001      Up\n",
       "1002      Up\n",
       "1003      Up\n",
       "1004      Up\n",
       "1005      Up\n",
       "1006      Up\n",
       "1007      Up\n",
       "1008      Up\n",
       "1009    Down\n",
       "1010      Up\n",
       "1011      Up\n",
       "1012      Up\n",
       "1013      Up\n",
       "1014      Up\n",
       "1015    Down\n",
       "1016      Up\n",
       "1017      Up\n",
       "Name: lda_pred_class, dtype: object"
      ]
     },
     "execution_count": 33,
     "metadata": {},
     "output_type": "execute_result"
    }
   ],
   "source": [
    "test_df.lda_pred_class[:20]"
   ]
  },
  {
   "cell_type": "markdown",
   "metadata": {},
   "source": [
    "If we wanted to use a posterior probability threshold other than 50 % in order to make predictions, then we could easily do so. For instance, suppose that we wish to predict a market decrease only if we are very certain that the market will indeed decrease on that day-say, if the posterior probability is at least 90 %."
   ]
  },
  {
   "cell_type": "code",
   "execution_count": 34,
   "metadata": {},
   "outputs": [
    {
     "data": {
      "text/plain": [
       "0"
      ]
     },
     "execution_count": 34,
     "metadata": {},
     "output_type": "execute_result"
    }
   ],
   "source": [
    "np.sum(lda_pred_posterior[:,0] >= 0.9)"
   ]
  },
  {
   "cell_type": "markdown",
   "metadata": {},
   "source": [
    "No days in 2005 meet that threshold! In fact, the greatest posterior probability of decrease in all of 2005 was 52.02 %"
   ]
  },
  {
   "cell_type": "code",
   "execution_count": 35,
   "metadata": {},
   "outputs": [
    {
     "data": {
      "text/plain": [
       "0.5202"
      ]
     },
     "execution_count": 35,
     "metadata": {},
     "output_type": "execute_result"
    }
   ],
   "source": [
    "np.max(lda_pred_posterior[:,0])"
   ]
  },
  {
   "cell_type": "markdown",
   "metadata": {},
   "source": [
    "## Quadratic Discriminant Analysis"
   ]
  },
  {
   "cell_type": "markdown",
   "metadata": {},
   "source": [
    "We will now fit a QDA model to the Smarket data. QDA is implemented in the sklearn module. The qda() syntax is identical to that of lda()."
   ]
  },
  {
   "cell_type": "code",
   "execution_count": 36,
   "metadata": {
    "collapsed": true
   },
   "outputs": [],
   "source": [
    "from sklearn.discriminant_analysis import QuadraticDiscriminantAnalysis as QDA"
   ]
  },
  {
   "cell_type": "code",
   "execution_count": 37,
   "metadata": {},
   "outputs": [
    {
     "name": "stdout",
     "output_type": "stream",
     "text": [
      "Class Priors (P(Y = k)) = [ 0.492  0.508]\n",
      "Class Means μk\n",
      "   Down: [ 0.0428  0.0339] \n",
      "   Up:   [-0.0395 -0.0313]\n"
     ]
    }
   ],
   "source": [
    "# Create Classifier Instance\n",
    "qda_clf = QDA()\n",
    "# Fit model\n",
    "qda_clf.fit(X_train,Y_train)\n",
    "\n",
    "print('Class Priors (P(Y = k)) =', qda_clf.priors_)\n",
    "print('Class Means μk\\n   Down:', qda_clf.means_[0], '\\n   Up:  ', lda_clf.means_[1])"
   ]
  },
  {
   "cell_type": "markdown",
   "metadata": {},
   "source": [
    "The output contains the group means. But it does not contain the coefficients of the linear discriminants, because the QDA classifier involves a quadratic, rather than a linear, function of the predictors. The predict() function works in exactly the same fashion as for LDA."
   ]
  },
  {
   "cell_type": "code",
   "execution_count": 38,
   "metadata": {},
   "outputs": [
    {
     "name": "stdout",
     "output_type": "stream",
     "text": [
      "The model makes 59.9206 correct predictions\n"
     ]
    },
    {
     "name": "stderr",
     "output_type": "stream",
     "text": [
      "/home/gperaza/anaconda3/lib/python3.6/site-packages/ipykernel_launcher.py:3: SettingWithCopyWarning: \n",
      "A value is trying to be set on a copy of a slice from a DataFrame.\n",
      "Try using .loc[row_indexer,col_indexer] = value instead\n",
      "\n",
      "See the caveats in the documentation: http://pandas.pydata.org/pandas-docs/stable/indexing.html#indexing-view-versus-copy\n",
      "  This is separate from the ipykernel package so we can avoid doing imports until\n"
     ]
    },
    {
     "data": {
      "text/html": [
       "<div>\n",
       "<style>\n",
       "    .dataframe thead tr:only-child th {\n",
       "        text-align: right;\n",
       "    }\n",
       "\n",
       "    .dataframe thead th {\n",
       "        text-align: left;\n",
       "    }\n",
       "\n",
       "    .dataframe tbody tr th {\n",
       "        vertical-align: top;\n",
       "    }\n",
       "</style>\n",
       "<table border=\"1\" class=\"dataframe\">\n",
       "  <thead>\n",
       "    <tr style=\"text-align: right;\">\n",
       "      <th>Direction</th>\n",
       "      <th>Down</th>\n",
       "      <th>Up</th>\n",
       "    </tr>\n",
       "    <tr>\n",
       "      <th>qda_pred_class</th>\n",
       "      <th></th>\n",
       "      <th></th>\n",
       "    </tr>\n",
       "  </thead>\n",
       "  <tbody>\n",
       "    <tr>\n",
       "      <th>Down</th>\n",
       "      <td>30</td>\n",
       "      <td>20</td>\n",
       "    </tr>\n",
       "    <tr>\n",
       "      <th>Up</th>\n",
       "      <td>81</td>\n",
       "      <td>121</td>\n",
       "    </tr>\n",
       "  </tbody>\n",
       "</table>\n",
       "</div>"
      ],
      "text/plain": [
       "Direction       Down   Up\n",
       "qda_pred_class           \n",
       "Down              30   20\n",
       "Up                81  121"
      ]
     },
     "execution_count": 38,
     "metadata": {},
     "output_type": "execute_result"
    }
   ],
   "source": [
    "qda_pred_class_coded = qda_clf.predict(test_df[predictors])\n",
    "qda_pred_class = ['Up' if c == 1 else 'Down' for c in qda_pred_class_coded]\n",
    "test_df['qda_pred_class'] = qda_pred_class\n",
    "\n",
    "print('The model makes {0:.4f} correct predictions'.format(100*np.mean(test_df.qda_pred_class == test_df.Direction)))\n",
    "\n",
    "# Compute Test Confusion Matrix #\n",
    "#################################\n",
    "table = pd.crosstab(test_df.qda_pred_class, test_df.Direction)\n",
    "table"
   ]
  },
  {
   "cell_type": "markdown",
   "metadata": {},
   "source": [
    "Interestingly, the QDA predictions are accurate almost 60 % of the time, even though the 2005 data was not used to fit the model. This level of accuracy is quite impressive for stock market data, which is known to be quite hard to model accurately. This suggests that the quadratic form assumed by QDA may capture the true relationship more accurately than the linear forms assumed by LDA and logistic regression. However, we recommend evaluating this method’s performance on a larger test set before betting that this approach will consistently beat the market!"
   ]
  },
  {
   "cell_type": "code",
   "execution_count": 39,
   "metadata": {},
   "outputs": [
    {
     "data": {
      "image/png": "[encoded data removed]",
      "text/plain": [
       "<matplotlib.figure.Figure at 0x7f65f4cc2b38>"
      ]
     },
     "metadata": {},
     "output_type": "display_data"
    }
   ],
   "source": [
    "# Scatter plot the data colored by market direction #\n",
    "#####################################################\n",
    "fig, ax = plt.subplots(figsize=(8,8))\n",
    "# Plot the training lags color coded by market direction\n",
    "ax.scatter(X_train[Y_train==1].Lag1, X_train[Y_train==1].Lag2, alpha=0.7, label='Up');\n",
    "ax.scatter(X_train[Y_train==0].Lag1, X_train[Y_train==0].Lag2, alpha=0.7, label='Down');\n",
    "\n",
    "\n",
    "# Calculate Bayes Decision Boundary #\n",
    "#####################################\n",
    "# Construct a meshgrid to calulate Bayes Boundary over\n",
    "nx, ny = 200, 200\n",
    "x_min, x_max = plt.xlim()\n",
    "y_min, y_max = plt.ylim()\n",
    "xx, yy = np.meshgrid(np.linspace(x_min, x_max, nx), np.linspace(y_min, y_max, ny))\n",
    "\n",
    "# Use predict_proba to calculate Probability at each x1,x2 pair\n",
    "Z = qda_clf.predict_proba(np.c_[xx.ravel(), yy.ravel()])\n",
    "Z = Z[:, 1].reshape(xx.shape)\n",
    "# The Bayes Boundary for k=2 classes is the contour where P(Y=k|X=x) = 0.5\n",
    "cp = ax.contour(xx, yy, Z, [0.5], linewidths=1., colors='k');\n",
    "plt.clabel(cp, inline=True, fmt='Bayes Decision Boundary',fontsize=8)\n",
    "\n",
    "ax.set_xlabel('Lag1')\n",
    "ax.set_ylabel('Lag2')\n",
    "ax.legend(loc='best');"
   ]
  },
  {
   "cell_type": "markdown",
   "metadata": {},
   "source": [
    "## K-Nearest Neighbors"
   ]
  },
  {
   "cell_type": "markdown",
   "metadata": {},
   "source": [
    "We will now perform KNN using the KNeighborsClassifier() function, which is part of the sklearn module. We start by initiating and instance of the classifier with K=1. To fit the model we need to pass a matrix of the predictors, and a vector with the corresponding class labels."
   ]
  },
  {
   "cell_type": "code",
   "execution_count": 40,
   "metadata": {
    "collapsed": true
   },
   "outputs": [],
   "source": [
    "from sklearn.neighbors import KNeighborsClassifier as KNNC"
   ]
  },
  {
   "cell_type": "code",
   "execution_count": 41,
   "metadata": {},
   "outputs": [
    {
     "data": {
      "text/plain": [
       "KNeighborsClassifier(algorithm='auto', leaf_size=30, metric='minkowski',\n",
       "           metric_params=None, n_jobs=1, n_neighbors=1, p=2,\n",
       "           weights='uniform')"
      ]
     },
     "execution_count": 41,
     "metadata": {},
     "output_type": "execute_result"
    }
   ],
   "source": [
    "# Build a KNN classifier\n",
    "knn_1 = KNNC(n_neighbors=1)\n",
    "knn_1.fit(X_train, train_df.Direction)"
   ]
  },
  {
   "cell_type": "markdown",
   "metadata": {},
   "source": [
    "Now the knn() function can be used to predict the market's movement for the dates in 2005."
   ]
  },
  {
   "cell_type": "code",
   "execution_count": 42,
   "metadata": {},
   "outputs": [
    {
     "data": {
      "text/plain": [
       "array(['Up', 'Down', 'Up', 'Up', 'Up', 'Down', 'Down', 'Down', 'Down',\n",
       "       'Up', 'Up', 'Up', 'Up', 'Up', 'Down', 'Down', 'Up', 'Up', 'Up',\n",
       "       'Up', 'Down', 'Down', 'Down', 'Down', 'Down', 'Up', 'Up', 'Up',\n",
       "       'Down', 'Up', 'Up', 'Down', 'Up', 'Down', 'Up', 'Up', 'Up', 'Up',\n",
       "       'Down', 'Up', 'Up', 'Up', 'Down', 'Down', 'Down', 'Down', 'Up',\n",
       "       'Down', 'Up', 'Up', 'Down', 'Up', 'Down', 'Down', 'Up', 'Up', 'Up',\n",
       "       'Down', 'Up', 'Up', 'Up', 'Up', 'Up', 'Up', 'Down', 'Down', 'Down',\n",
       "       'Up', 'Up', 'Up', 'Up', 'Down', 'Up', 'Down', 'Down', 'Down', 'Up',\n",
       "       'Up', 'Up', 'Down', 'Up', 'Up', 'Down', 'Down', 'Up', 'Up', 'Up',\n",
       "       'Up', 'Down', 'Up', 'Up', 'Up', 'Up', 'Down', 'Down', 'Up', 'Up',\n",
       "       'Up', 'Up', 'Down', 'Down', 'Down', 'Up', 'Up', 'Up', 'Up', 'Down',\n",
       "       'Down', 'Down', 'Down', 'Up', 'Up', 'Up', 'Up', 'Up', 'Down', 'Up',\n",
       "       'Up', 'Down', 'Up', 'Up', 'Up', 'Down', 'Up', 'Down', 'Down', 'Up',\n",
       "       'Up', 'Down', 'Down', 'Down', 'Down', 'Up', 'Down', 'Up', 'Down',\n",
       "       'Up', 'Up', 'Up', 'Down', 'Up', 'Down', 'Up', 'Down', 'Down', 'Up',\n",
       "       'Up', 'Down', 'Up', 'Up', 'Down', 'Up', 'Up', 'Up', 'Up', 'Up',\n",
       "       'Up', 'Down', 'Up', 'Down', 'Up', 'Down', 'Up', 'Down', 'Up', 'Up',\n",
       "       'Up', 'Down', 'Up', 'Up', 'Up', 'Up', 'Down', 'Up', 'Down', 'Up',\n",
       "       'Up', 'Down', 'Down', 'Up', 'Down', 'Down', 'Up', 'Up', 'Down',\n",
       "       'Up', 'Up', 'Down', 'Up', 'Up', 'Down', 'Down', 'Up', 'Down', 'Up',\n",
       "       'Up', 'Up', 'Down', 'Down', 'Down', 'Up', 'Up', 'Up', 'Up', 'Down',\n",
       "       'Up', 'Down', 'Down', 'Up', 'Up', 'Up', 'Down', 'Up', 'Up', 'Up',\n",
       "       'Down', 'Up', 'Down', 'Up', 'Up', 'Up', 'Up', 'Up', 'Up', 'Up',\n",
       "       'Down', 'Down', 'Up', 'Down', 'Up', 'Up', 'Up', 'Down', 'Up', 'Up',\n",
       "       'Down', 'Down', 'Up', 'Down', 'Down', 'Up', 'Up', 'Down', 'Up',\n",
       "       'Down', 'Up', 'Down', 'Down', 'Down', 'Up', 'Down', 'Up'], dtype=object)"
      ]
     },
     "execution_count": 42,
     "metadata": {},
     "output_type": "execute_result"
    }
   ],
   "source": [
    "knn1_pred = knn_1.predict(test_df[predictors])\n",
    "knn1_pred"
   ]
  },
  {
   "cell_type": "code",
   "execution_count": 43,
   "metadata": {},
   "outputs": [
    {
     "name": "stdout",
     "output_type": "stream",
     "text": [
      "The model makes 50.0000% correct predictions\n"
     ]
    },
    {
     "data": {
      "text/html": [
       "<div>\n",
       "<style>\n",
       "    .dataframe thead tr:only-child th {\n",
       "        text-align: right;\n",
       "    }\n",
       "\n",
       "    .dataframe thead th {\n",
       "        text-align: left;\n",
       "    }\n",
       "\n",
       "    .dataframe tbody tr th {\n",
       "        vertical-align: top;\n",
       "    }\n",
       "</style>\n",
       "<table border=\"1\" class=\"dataframe\">\n",
       "  <thead>\n",
       "    <tr style=\"text-align: right;\">\n",
       "      <th>Direction</th>\n",
       "      <th>Down</th>\n",
       "      <th>Up</th>\n",
       "    </tr>\n",
       "    <tr>\n",
       "      <th>row_0</th>\n",
       "      <th></th>\n",
       "      <th></th>\n",
       "    </tr>\n",
       "  </thead>\n",
       "  <tbody>\n",
       "    <tr>\n",
       "      <th>Down</th>\n",
       "      <td>43</td>\n",
       "      <td>58</td>\n",
       "    </tr>\n",
       "    <tr>\n",
       "      <th>Up</th>\n",
       "      <td>68</td>\n",
       "      <td>83</td>\n",
       "    </tr>\n",
       "  </tbody>\n",
       "</table>\n",
       "</div>"
      ],
      "text/plain": [
       "Direction  Down  Up\n",
       "row_0              \n",
       "Down         43  58\n",
       "Up           68  83"
      ]
     },
     "execution_count": 43,
     "metadata": {},
     "output_type": "execute_result"
    }
   ],
   "source": [
    "print('The model makes {0:.4f}% correct predictions'.format(100*np.mean(knn1_pred == test_df.Direction)))\n",
    "\n",
    "# Compute Test Confusion Matrix #\n",
    "#################################\n",
    "table = pd.crosstab(knn1_pred, test_df.Direction)\n",
    "table"
   ]
  },
  {
   "cell_type": "markdown",
   "metadata": {},
   "source": [
    "The results using K = 1 are not very good, since only 50 % of the observations are correctly predicted. Of course, it may be that K = 1 results in an overly flexible fit to the data. Below, we repeat the analysis using K = 3."
   ]
  },
  {
   "cell_type": "code",
   "execution_count": 44,
   "metadata": {},
   "outputs": [
    {
     "name": "stdout",
     "output_type": "stream",
     "text": [
      "The model makes 53.1746% correct predictions\n"
     ]
    },
    {
     "data": {
      "text/html": [
       "<div>\n",
       "<style>\n",
       "    .dataframe thead tr:only-child th {\n",
       "        text-align: right;\n",
       "    }\n",
       "\n",
       "    .dataframe thead th {\n",
       "        text-align: left;\n",
       "    }\n",
       "\n",
       "    .dataframe tbody tr th {\n",
       "        vertical-align: top;\n",
       "    }\n",
       "</style>\n",
       "<table border=\"1\" class=\"dataframe\">\n",
       "  <thead>\n",
       "    <tr style=\"text-align: right;\">\n",
       "      <th>Direction</th>\n",
       "      <th>Down</th>\n",
       "      <th>Up</th>\n",
       "    </tr>\n",
       "    <tr>\n",
       "      <th>row_0</th>\n",
       "      <th></th>\n",
       "      <th></th>\n",
       "    </tr>\n",
       "  </thead>\n",
       "  <tbody>\n",
       "    <tr>\n",
       "      <th>Down</th>\n",
       "      <td>48</td>\n",
       "      <td>55</td>\n",
       "    </tr>\n",
       "    <tr>\n",
       "      <th>Up</th>\n",
       "      <td>63</td>\n",
       "      <td>86</td>\n",
       "    </tr>\n",
       "  </tbody>\n",
       "</table>\n",
       "</div>"
      ],
      "text/plain": [
       "Direction  Down  Up\n",
       "row_0              \n",
       "Down         48  55\n",
       "Up           63  86"
      ]
     },
     "execution_count": 44,
     "metadata": {},
     "output_type": "execute_result"
    }
   ],
   "source": [
    "knn_3 = KNNC(n_neighbors=3)\n",
    "knn_3.fit(X_train, train_df.Direction)\n",
    "knn3_pred = knn_3.predict(test_df[predictors])\n",
    "\n",
    "print('The model makes {0:.4f}% correct predictions'.format(100*np.mean(knn3_pred == test_df.Direction)))\n",
    "\n",
    "# Compute Test Confusion Matrix #\n",
    "#################################\n",
    "table = pd.crosstab(knn3_pred, test_df.Direction)\n",
    "table"
   ]
  },
  {
   "cell_type": "markdown",
   "metadata": {},
   "source": [
    "The results have improved slightly. But increasing K further turns out to provide no further improvements. It appears that for this data, QDA provides the best results of the methods that we have examined so far."
   ]
  },
  {
   "cell_type": "markdown",
   "metadata": {},
   "source": [
    "Note the confusion matrix is off by one from the text. This is likely due to the fact that some neighbors are equidistant from a one of the points. In R you can set a random seed to reproduce which one is chosen. In sklearn, the choice is based on the order the points appear in the data."
   ]
  },
  {
   "cell_type": "markdown",
   "metadata": {},
   "source": [
    "## An Application to Caravan Insurance Data"
   ]
  },
  {
   "cell_type": "markdown",
   "metadata": {
    "collapsed": true
   },
   "source": [
    "Finally, we will apply the KNN approach to the `Caravan` data set. This data set includes 85 predictors that measure\n",
    "demographic characteristics for 5,822 individuals. The response variable is `Purchase`, which indicates whether or not a given individual purchases a caravan insurance policy. In this data set, only 6% of people purchased caravan insurance."
   ]
  },
  {
   "cell_type": "code",
   "execution_count": 45,
   "metadata": {
    "scrolled": true
   },
   "outputs": [
    {
     "data": {
      "text/html": [
       "<div>\n",
       "<style>\n",
       "    .dataframe thead tr:only-child th {\n",
       "        text-align: right;\n",
       "    }\n",
       "\n",
       "    .dataframe thead th {\n",
       "        text-align: left;\n",
       "    }\n",
       "\n",
       "    .dataframe tbody tr th {\n",
       "        vertical-align: top;\n",
       "    }\n",
       "</style>\n",
       "<table border=\"1\" class=\"dataframe\">\n",
       "  <thead>\n",
       "    <tr style=\"text-align: right;\">\n",
       "      <th></th>\n",
       "      <th>MOSTYPE</th>\n",
       "      <th>MAANTHUI</th>\n",
       "      <th>MGEMOMV</th>\n",
       "      <th>MGEMLEEF</th>\n",
       "      <th>MOSHOOFD</th>\n",
       "      <th>MGODRK</th>\n",
       "      <th>MGODPR</th>\n",
       "      <th>MGODOV</th>\n",
       "      <th>MGODGE</th>\n",
       "      <th>MRELGE</th>\n",
       "      <th>...</th>\n",
       "      <th>APERSONG</th>\n",
       "      <th>AGEZONG</th>\n",
       "      <th>AWAOREG</th>\n",
       "      <th>ABRAND</th>\n",
       "      <th>AZEILPL</th>\n",
       "      <th>APLEZIER</th>\n",
       "      <th>AFIETS</th>\n",
       "      <th>AINBOED</th>\n",
       "      <th>ABYSTAND</th>\n",
       "      <th>Purchase</th>\n",
       "    </tr>\n",
       "  </thead>\n",
       "  <tbody>\n",
       "    <tr>\n",
       "      <th>1</th>\n",
       "      <td>33</td>\n",
       "      <td>1</td>\n",
       "      <td>3</td>\n",
       "      <td>2</td>\n",
       "      <td>8</td>\n",
       "      <td>0</td>\n",
       "      <td>5</td>\n",
       "      <td>1</td>\n",
       "      <td>3</td>\n",
       "      <td>7</td>\n",
       "      <td>...</td>\n",
       "      <td>0</td>\n",
       "      <td>0</td>\n",
       "      <td>0</td>\n",
       "      <td>1</td>\n",
       "      <td>0</td>\n",
       "      <td>0</td>\n",
       "      <td>0</td>\n",
       "      <td>0</td>\n",
       "      <td>0</td>\n",
       "      <td>No</td>\n",
       "    </tr>\n",
       "    <tr>\n",
       "      <th>2</th>\n",
       "      <td>37</td>\n",
       "      <td>1</td>\n",
       "      <td>2</td>\n",
       "      <td>2</td>\n",
       "      <td>8</td>\n",
       "      <td>1</td>\n",
       "      <td>4</td>\n",
       "      <td>1</td>\n",
       "      <td>4</td>\n",
       "      <td>6</td>\n",
       "      <td>...</td>\n",
       "      <td>0</td>\n",
       "      <td>0</td>\n",
       "      <td>0</td>\n",
       "      <td>1</td>\n",
       "      <td>0</td>\n",
       "      <td>0</td>\n",
       "      <td>0</td>\n",
       "      <td>0</td>\n",
       "      <td>0</td>\n",
       "      <td>No</td>\n",
       "    </tr>\n",
       "    <tr>\n",
       "      <th>3</th>\n",
       "      <td>37</td>\n",
       "      <td>1</td>\n",
       "      <td>2</td>\n",
       "      <td>2</td>\n",
       "      <td>8</td>\n",
       "      <td>0</td>\n",
       "      <td>4</td>\n",
       "      <td>2</td>\n",
       "      <td>4</td>\n",
       "      <td>3</td>\n",
       "      <td>...</td>\n",
       "      <td>0</td>\n",
       "      <td>0</td>\n",
       "      <td>0</td>\n",
       "      <td>1</td>\n",
       "      <td>0</td>\n",
       "      <td>0</td>\n",
       "      <td>0</td>\n",
       "      <td>0</td>\n",
       "      <td>0</td>\n",
       "      <td>No</td>\n",
       "    </tr>\n",
       "    <tr>\n",
       "      <th>4</th>\n",
       "      <td>9</td>\n",
       "      <td>1</td>\n",
       "      <td>3</td>\n",
       "      <td>3</td>\n",
       "      <td>3</td>\n",
       "      <td>2</td>\n",
       "      <td>3</td>\n",
       "      <td>2</td>\n",
       "      <td>4</td>\n",
       "      <td>5</td>\n",
       "      <td>...</td>\n",
       "      <td>0</td>\n",
       "      <td>0</td>\n",
       "      <td>0</td>\n",
       "      <td>1</td>\n",
       "      <td>0</td>\n",
       "      <td>0</td>\n",
       "      <td>0</td>\n",
       "      <td>0</td>\n",
       "      <td>0</td>\n",
       "      <td>No</td>\n",
       "    </tr>\n",
       "    <tr>\n",
       "      <th>5</th>\n",
       "      <td>40</td>\n",
       "      <td>1</td>\n",
       "      <td>4</td>\n",
       "      <td>2</td>\n",
       "      <td>10</td>\n",
       "      <td>1</td>\n",
       "      <td>4</td>\n",
       "      <td>1</td>\n",
       "      <td>4</td>\n",
       "      <td>7</td>\n",
       "      <td>...</td>\n",
       "      <td>0</td>\n",
       "      <td>0</td>\n",
       "      <td>0</td>\n",
       "      <td>1</td>\n",
       "      <td>0</td>\n",
       "      <td>0</td>\n",
       "      <td>0</td>\n",
       "      <td>0</td>\n",
       "      <td>0</td>\n",
       "      <td>No</td>\n",
       "    </tr>\n",
       "  </tbody>\n",
       "</table>\n",
       "<p>5 rows × 86 columns</p>\n",
       "</div>"
      ],
      "text/plain": [
       "   MOSTYPE  MAANTHUI  MGEMOMV  MGEMLEEF  MOSHOOFD  MGODRK  MGODPR  MGODOV  \\\n",
       "1       33         1        3         2         8       0       5       1   \n",
       "2       37         1        2         2         8       1       4       1   \n",
       "3       37         1        2         2         8       0       4       2   \n",
       "4        9         1        3         3         3       2       3       2   \n",
       "5       40         1        4         2        10       1       4       1   \n",
       "\n",
       "   MGODGE  MRELGE    ...     APERSONG  AGEZONG  AWAOREG  ABRAND  AZEILPL  \\\n",
       "1       3       7    ...            0        0        0       1        0   \n",
       "2       4       6    ...            0        0        0       1        0   \n",
       "3       4       3    ...            0        0        0       1        0   \n",
       "4       4       5    ...            0        0        0       1        0   \n",
       "5       4       7    ...            0        0        0       1        0   \n",
       "\n",
       "   APLEZIER  AFIETS  AINBOED  ABYSTAND  Purchase  \n",
       "1         0       0        0         0        No  \n",
       "2         0       0        0         0        No  \n",
       "3         0       0        0         0        No  \n",
       "4         0       0        0         0        No  \n",
       "5         0       0        0         0        No  \n",
       "\n",
       "[5 rows x 86 columns]"
      ]
     },
     "execution_count": 45,
     "metadata": {},
     "output_type": "execute_result"
    }
   ],
   "source": [
    "# Load the caravan insurance data for section 4.6.6\n",
    "caravan_df = pd.read_csv('Data/Caravan.csv', index_col=0)\n",
    "caravan_df.head()"
   ]
  },
  {
   "cell_type": "code",
   "execution_count": 46,
   "metadata": {},
   "outputs": [
    {
     "data": {
      "text/plain": [
       "(5822, 86)"
      ]
     },
     "execution_count": 46,
     "metadata": {},
     "output_type": "execute_result"
    }
   ],
   "source": [
    "caravan_df.shape"
   ]
  },
  {
   "cell_type": "code",
   "execution_count": 47,
   "metadata": {},
   "outputs": [
    {
     "data": {
      "text/plain": [
       "count     5822\n",
       "unique       2\n",
       "top         No\n",
       "freq      5474\n",
       "Name: Purchase, dtype: object"
      ]
     },
     "execution_count": 47,
     "metadata": {},
     "output_type": "execute_result"
    }
   ],
   "source": [
    "caravan_df.Purchase.describe()"
   ]
  },
  {
   "cell_type": "code",
   "execution_count": 48,
   "metadata": {},
   "outputs": [
    {
     "name": "stdout",
     "output_type": "stream",
     "text": [
      "The probability an individual purchased car insurance was, 0.0597732737891\n"
     ]
    }
   ],
   "source": [
    "print('The probability an individual purchased car insurance was,',\n",
    "      1- caravan_df.Purchase.describe().freq / len(caravan_df.Purchase))"
   ]
  },
  {
   "cell_type": "markdown",
   "metadata": {},
   "source": [
    "Because the KNN classifier predicts the class of a given test observation by identifying the observations that are nearest to it, the scale of the variables matters. Any variables that are on a large scale will have a much larger\n",
    "effect on the distance between the observations, and hence on the KNN classifier, than variables that are on a small scale. For instance, imagine a data set that contains two variables, salary and age (measured in dollars and years, respectively). As far as KNN is concerned, a difference of \\$1,000 in salary is enormous compared to a difference of 50 years in age. Consequently, salary will drive the KNN classification results, and age will have almost no effect. This is contrary to our intuition that a salary difference of \\$1, 000 is quite small compared to an age difference of 50 years. Furthermore, the importance of scale to the KNN classifier leads to another issue: if we measured salary in Japanese yen, or if we measured age in minutes, then we'd get quite different classification results from what we get if these two variables are measured in dollars and years.\n",
    "\n",
    "A good way to handle this problem is to standardize the data so that all variables are given a mean of zero and a standard deviation of one. Then all variables will be on a comparable scale. In standardizing the data, we exclude column 86, because that is the qualitative Purchase variable."
   ]
  },
  {
   "cell_type": "code",
   "execution_count": 49,
   "metadata": {
    "collapsed": true
   },
   "outputs": [],
   "source": [
    "from sklearn.preprocessing import scale"
   ]
  },
  {
   "cell_type": "code",
   "execution_count": 50,
   "metadata": {},
   "outputs": [
    {
     "name": "stdout",
     "output_type": "stream",
     "text": [
      "mean = -7.74982200632e-17 variance =  1.0\n"
     ]
    }
   ],
   "source": [
    "# Standardize the Variables #\n",
    "#############################\n",
    "X = scale(caravan_df.iloc[:,0:85], axis=0)\n",
    "\n",
    "# check that X[:,1] is now standardized\n",
    "print('mean =', np.mean(X[:,0]), 'variance = ', np.var(X[:,0]))"
   ]
  },
  {
   "cell_type": "markdown",
   "metadata": {},
   "source": [
    "Now every column of X has a standard deviation of one and a mean of zero.\n",
    "\n",
    "We now split the observations into a test set, containing the first 1,000 observations, and a training set, containing the remaining observations. We fit a KNN model on the training data using K = 1, and evaluate its performance on the test data."
   ]
  },
  {
   "cell_type": "code",
   "execution_count": 51,
   "metadata": {},
   "outputs": [
    {
     "name": "stdout",
     "output_type": "stream",
     "text": [
      "The error rate for k=1 is 11.800 %\n",
      "There are 0.059 % custumors who bought insurance on the test set.\n"
     ]
    }
   ],
   "source": [
    "Y = caravan_df.Purchase.values\n",
    "\n",
    "X_train = X[1000:]\n",
    "X_test = X[:1000]\n",
    "Y_train = Y[1000:]\n",
    "Y_test = Y[:1000]\n",
    "\n",
    "knn1 = KNNC(n_neighbors=1)\n",
    "knn1.fit(X_train, Y_train)\n",
    "\n",
    "knn1_pred = knn1.predict(X_test)\n",
    "\n",
    "error_rate = np.mean(knn1_pred != Y_test)\n",
    "\n",
    "print('The error rate for k={0:d} is {1:.3f} %'.format(1, 100*error_rate))\n",
    "print('There are {} % custumors who bought insurance on the test set.'.format(np.mean(Y_test != 'No')))"
   ]
  },
  {
   "cell_type": "markdown",
   "metadata": {},
   "source": [
    "The KNN error rate on the 1,000 test observations is just below 12 %. At first glance, this may appear to be fairly good. However, since only 6 % of customers purchased insurance, we could get the error rate down to 6 % by always predicting No regardless of the values of the predictors!\n",
    "\n",
    "Suppose that there is some non-trivial cost to trying to sell insurance to a given individual. For instance, perhaps a salesperson must visit each potential customer. If the company tries to sell insurance to a random selection of customers, then the success rate will be only 6 %, which may be far too low given the costs involved. Instead, the company would like to try to sell insurance only to customers who are likely to buy it. So the overall error rate is not of interest. Instead, the fraction of individuals that are correctly predicted to buy insurance is of interest.\n",
    "\n",
    "It turns out that KNN with K = 1 does far better than random guessing among the customers that are predicted to buy insurance. Among 77 such customers, 9, or 11.7 %, actually do purchase insurance. This is double the rate that one would obtain from random guessing."
   ]
  },
  {
   "cell_type": "code",
   "execution_count": 52,
   "metadata": {},
   "outputs": [
    {
     "data": {
      "text/html": [
       "<div>\n",
       "<style>\n",
       "    .dataframe thead tr:only-child th {\n",
       "        text-align: right;\n",
       "    }\n",
       "\n",
       "    .dataframe thead th {\n",
       "        text-align: left;\n",
       "    }\n",
       "\n",
       "    .dataframe tbody tr th {\n",
       "        vertical-align: top;\n",
       "    }\n",
       "</style>\n",
       "<table border=\"1\" class=\"dataframe\">\n",
       "  <thead>\n",
       "    <tr style=\"text-align: right;\">\n",
       "      <th>col_0</th>\n",
       "      <th>No</th>\n",
       "      <th>Yes</th>\n",
       "    </tr>\n",
       "    <tr>\n",
       "      <th>row_0</th>\n",
       "      <th></th>\n",
       "      <th></th>\n",
       "    </tr>\n",
       "  </thead>\n",
       "  <tbody>\n",
       "    <tr>\n",
       "      <th>No</th>\n",
       "      <td>873</td>\n",
       "      <td>50</td>\n",
       "    </tr>\n",
       "    <tr>\n",
       "      <th>Yes</th>\n",
       "      <td>68</td>\n",
       "      <td>9</td>\n",
       "    </tr>\n",
       "  </tbody>\n",
       "</table>\n",
       "</div>"
      ],
      "text/plain": [
       "col_0   No  Yes\n",
       "row_0          \n",
       "No     873   50\n",
       "Yes     68    9"
      ]
     },
     "execution_count": 52,
     "metadata": {},
     "output_type": "execute_result"
    }
   ],
   "source": [
    "table = pd.crosstab(knn1_pred, Y_test)\n",
    "table"
   ]
  },
  {
   "cell_type": "code",
   "execution_count": 53,
   "metadata": {},
   "outputs": [
    {
     "name": "stdout",
     "output_type": "stream",
     "text": [
      "The true positive rate on the test set: 0.11688311688311688\n"
     ]
    }
   ],
   "source": [
    "print(\"The true positive rate on the test set: {}\".format(table.values[1,1]/(table.values[1,1] + table.values[1,0])))"
   ]
  },
  {
   "cell_type": "markdown",
   "metadata": {},
   "source": [
    "Using K = 3, the success rate increases to 20 %, and with K = 5 the rate is 26.7 %. This is over four times the rate that results from random guessing. It appears that KNN is finding some real patterns in a difficult data set!"
   ]
  },
  {
   "cell_type": "code",
   "execution_count": 54,
   "metadata": {},
   "outputs": [
    {
     "name": "stdout",
     "output_type": "stream",
     "text": [
      "The error rate for k=3 is 7.3999999999999995 %\n",
      "The true positive rate on the test for k=3 set: 0.2\n"
     ]
    }
   ],
   "source": [
    "# Build a k=3 Neighbor Classifier #\n",
    "###################################\n",
    "knn3 = KNNC(n_neighbors=3)\n",
    "knn3.fit(X_train, Y_train)\n",
    "knn3_pred = knn3.predict(X_test)\n",
    "error_rate = np.mean(knn3_pred != Y_test)\n",
    "print('The error rate for k=3 is {} %'.format(100*error_rate))\n",
    "table = pd.crosstab(knn3_pred, Y_test)\n",
    "print(\"The true positive rate on the test for k=3 set: {}\".format(table.values[1,1]/(table.values[1,1] + table.values[1,0])))"
   ]
  },
  {
   "cell_type": "code",
   "execution_count": 55,
   "metadata": {},
   "outputs": [
    {
     "name": "stdout",
     "output_type": "stream",
     "text": [
      "The error rate for k=5 is 6.6000000000000005 %\n",
      "The true positive rate on the test for k=5 set: 0.26666666666666666\n"
     ]
    }
   ],
   "source": [
    "# Build a k=5 Neighbor Classifier #\n",
    "###################################\n",
    "knn5 = KNNC(n_neighbors=5)\n",
    "knn5.fit(X_train, Y_train)\n",
    "knn5_pred = knn5.predict(X_test)\n",
    "error_rate = np.mean(knn5_pred != Y_test)\n",
    "print('The error rate for k=5 is {} %'.format(100*error_rate))\n",
    "table = pd.crosstab(knn5_pred, Y_test)\n",
    "print(\"The true positive rate on the test for k=5 set: {}\".format(table.values[1,1]/(table.values[1,1] + table.values[1,0])))"
   ]
  },
  {
   "cell_type": "markdown",
   "metadata": {},
   "source": [
    "As a comparison, we can also fit a logistic regression model to the data. If we use 0.5 as the predicted probability cut-off for the classifier, then we have a problem: only seven of the test observations are predicted to purchase insurance. Even worse, we are wrong about all of these! However, we are not required to use a cut-off of 0.5. If we instead predict a purchase any time the predicted probability of purchase exceeds 0.25, we get much better results: we predict that 33 people will purchase insurance, and we are correct for about 33 % of these people. This is over five times better than random guessing!"
   ]
  },
  {
   "cell_type": "code",
   "execution_count": 56,
   "metadata": {},
   "outputs": [
    {
     "name": "stdout",
     "output_type": "stream",
     "text": [
      "Warning: Maximum number of iterations has been exceeded.\n",
      "         Current function value: 0.192013\n",
      "         Iterations: 35\n"
     ]
    },
    {
     "name": "stderr",
     "output_type": "stream",
     "text": [
      "/home/gperaza/anaconda3/lib/python3.6/site-packages/statsmodels/base/model.py:496: ConvergenceWarning: Maximum Likelihood optimization failed to converge. Check mle_retvals\n",
      "  \"Check mle_retvals\", ConvergenceWarning)\n"
     ]
    },
    {
     "data": {
      "text/html": [
       "<div>\n",
       "<style>\n",
       "    .dataframe thead tr:only-child th {\n",
       "        text-align: right;\n",
       "    }\n",
       "\n",
       "    .dataframe thead th {\n",
       "        text-align: left;\n",
       "    }\n",
       "\n",
       "    .dataframe tbody tr th {\n",
       "        vertical-align: top;\n",
       "    }\n",
       "</style>\n",
       "<table border=\"1\" class=\"dataframe\">\n",
       "  <thead>\n",
       "    <tr style=\"text-align: right;\">\n",
       "      <th>col_0</th>\n",
       "      <th>No</th>\n",
       "      <th>Yes</th>\n",
       "    </tr>\n",
       "    <tr>\n",
       "      <th>row_0</th>\n",
       "      <th></th>\n",
       "      <th></th>\n",
       "    </tr>\n",
       "  </thead>\n",
       "  <tbody>\n",
       "    <tr>\n",
       "      <th>No</th>\n",
       "      <td>934</td>\n",
       "      <td>59</td>\n",
       "    </tr>\n",
       "    <tr>\n",
       "      <th>Yes</th>\n",
       "      <td>7</td>\n",
       "      <td>0</td>\n",
       "    </tr>\n",
       "  </tbody>\n",
       "</table>\n",
       "</div>"
      ],
      "text/plain": [
       "col_0   No  Yes\n",
       "row_0          \n",
       "No     934   59\n",
       "Yes      7    0"
      ]
     },
     "execution_count": 56,
     "metadata": {},
     "output_type": "execute_result"
    }
   ],
   "source": [
    "predictors = caravan_df.columns.tolist()[:-1]\n",
    "#\n",
    "#formula = 'ResCoded ~ ' + ' + '.join(predictors)\n",
    "Y_train_coded = [0 if d == 'No' else 1 for d in Y_train]\n",
    "X_train2 = sm.add_constant(X_train)\n",
    "logit_fit = sm.Logit(Y_train_coded, X_train2).fit()\n",
    "X_test2 = sm.add_constant(X_test, has_constant='add')\n",
    "logit_probs = logit_fit.predict(X_test2)\n",
    "logit_pred = pd.Series(['Yes' if p > 0.5 else 'No' for p in logit_probs])\n",
    "table = pd.crosstab(logit_pred, Y_test)\n",
    "table"
   ]
  },
  {
   "cell_type": "code",
   "execution_count": 58,
   "metadata": {},
   "outputs": [
    {
     "data": {
      "text/html": [
       "<div>\n",
       "<style>\n",
       "    .dataframe thead tr:only-child th {\n",
       "        text-align: right;\n",
       "    }\n",
       "\n",
       "    .dataframe thead th {\n",
       "        text-align: left;\n",
       "    }\n",
       "\n",
       "    .dataframe tbody tr th {\n",
       "        vertical-align: top;\n",
       "    }\n",
       "</style>\n",
       "<table border=\"1\" class=\"dataframe\">\n",
       "  <thead>\n",
       "    <tr style=\"text-align: right;\">\n",
       "      <th>col_0</th>\n",
       "      <th>No</th>\n",
       "      <th>Yes</th>\n",
       "    </tr>\n",
       "    <tr>\n",
       "      <th>row_0</th>\n",
       "      <th></th>\n",
       "      <th></th>\n",
       "    </tr>\n",
       "  </thead>\n",
       "  <tbody>\n",
       "    <tr>\n",
       "      <th>No</th>\n",
       "      <td>919</td>\n",
       "      <td>48</td>\n",
       "    </tr>\n",
       "    <tr>\n",
       "      <th>Yes</th>\n",
       "      <td>22</td>\n",
       "      <td>11</td>\n",
       "    </tr>\n",
       "  </tbody>\n",
       "</table>\n",
       "</div>"
      ],
      "text/plain": [
       "col_0   No  Yes\n",
       "row_0          \n",
       "No     919   48\n",
       "Yes     22   11"
      ]
     },
     "execution_count": 58,
     "metadata": {},
     "output_type": "execute_result"
    }
   ],
   "source": [
    "logit_pred = pd.Series(['Yes' if p > 0.25 else 'No' for p in logit_probs])\n",
    "table = pd.crosstab(logit_pred, Y_test)\n",
    "table"
   ]
  },
  {
   "cell_type": "markdown",
   "metadata": {},
   "source": [
    "Note: There seems to be a convergence problem with logistic regression applied to this data set. This may be due to collinearity problems. Weirdly, no mention of this is made in the textbook."
   ]
  }
 ],
 "metadata": {
  "kernelspec": {
   "display_name": "Python 3",
   "language": "python",
   "name": "python3"
  },
  "language_info": {
   "codemirror_mode": {
    "name": "ipython",
    "version": 3
   },
   "file_extension": ".py",
   "mimetype": "text/x-python",
   "name": "python",
   "nbconvert_exporter": "python",
   "pygments_lexer": "ipython3",
   "version": "3.6.1"
  },
  "varInspector": {
   "cols": {
    "lenName": 16,
    "lenType": 16,
    "lenVar": 40
   },
   "kernels_config": {
    "python": {
     "delete_cmd_postfix": "",
     "delete_cmd_prefix": "del ",
     "library": "var_list.py",
     "varRefreshCmd": "print(var_dic_list())"
    },
    "r": {
     "delete_cmd_postfix": ") ",
     "delete_cmd_prefix": "rm(",
     "library": "var_list.r",
     "varRefreshCmd": "cat(var_dic_list()) "
    }
   },
   "types_to_exclude": [
    "module",
    "function",
    "builtin_function_or_method",
    "instance",
    "_Feature"
   ],
   "window_display": false
  }
 },
 "nbformat": 4,
 "nbformat_minor": 1
}
